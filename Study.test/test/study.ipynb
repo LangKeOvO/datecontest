{
 "cells": [
  {
   "cell_type": "markdown",
   "id": "4b7b5deb",
   "metadata": {},
   "source": [
    "#### 各种库"
   ]
  },
  {
   "cell_type": "code",
   "execution_count": 1,
   "id": "3209a8a3",
   "metadata": {},
   "outputs": [],
   "source": [
    "import numpy as np\n",
    "import pandas as pd\n",
    "from pandas import DataFrame, Series\n",
    "import matplotlib.pyplot as plt\n",
    "import seaborn as sns"
   ]
  },
  {
   "cell_type": "markdown",
   "id": "de9198b7",
   "metadata": {},
   "source": [
    "#### 路径简化"
   ]
  },
  {
   "cell_type": "code",
   "execution_count": 2,
   "id": "21a01699",
   "metadata": {},
   "outputs": [],
   "source": [
    "base_path = \"D:/CODE/datecontest/Study.test/2024年钉钉杯大数据挑战赛初赛题目/A题/\"\n",
    "file_names = [\"A1.csv\", \"A2.csv\", \"A3.csv\", \"A4.csv\", \"A5.csv\"]"
   ]
  },
  {
   "cell_type": "code",
   "execution_count": 3,
   "id": "c7c1f160",
   "metadata": {},
   "outputs": [],
   "source": [
    "dfs = [pd.read_csv(base_path + fname, encoding='utf-8-sig') for fname in file_names]\n",
    "names = ['A1', 'A2', 'A3', 'A4', 'A5']"
   ]
  },
  {
   "cell_type": "markdown",
   "id": "a2fd5db5",
   "metadata": {},
   "source": [
    "#### 类型转换"
   ]
  },
  {
   "cell_type": "markdown",
   "id": "6af45892",
   "metadata": {},
   "source": [
    "- 每张表的列数据类型"
   ]
  },
  {
   "cell_type": "code",
   "execution_count": 4,
   "id": "968264b1",
   "metadata": {},
   "outputs": [
    {
     "name": "stdout",
     "output_type": "stream",
     "text": [
      "表格类型：\n",
      " 月份         int64\n",
      "样品代码     float64\n",
      "名称        object\n",
      "销量（箱）    float64\n",
      "金额（元）    float64\n",
      "dtype: object\n",
      "<class 'pandas.core.frame.DataFrame'>\n",
      "RangeIndex: 137 entries, 0 to 136\n",
      "Data columns (total 5 columns):\n",
      " #   Column  Non-Null Count  Dtype  \n",
      "---  ------  --------------  -----  \n",
      " 0   月份      137 non-null    int64  \n",
      " 1   样品代码    117 non-null    float64\n",
      " 2   名称      117 non-null    object \n",
      " 3   销量（箱）   117 non-null    float64\n",
      " 4   金额（元）   117 non-null    float64\n",
      "dtypes: float64(3), int64(1), object(1)\n",
      "memory usage: 5.5+ KB\n",
      "基本信息：\n",
      " None\n",
      "=========================================\n",
      "表格类型：\n",
      " 月份         int64\n",
      "样品代码     float64\n",
      "名称        object\n",
      "销量（箱）    float64\n",
      "金额（元）    float64\n",
      "dtype: object\n",
      "<class 'pandas.core.frame.DataFrame'>\n",
      "RangeIndex: 108 entries, 0 to 107\n",
      "Data columns (total 5 columns):\n",
      " #   Column  Non-Null Count  Dtype  \n",
      "---  ------  --------------  -----  \n",
      " 0   月份      108 non-null    int64  \n",
      " 1   样品代码    98 non-null     float64\n",
      " 2   名称      98 non-null     object \n",
      " 3   销量（箱）   98 non-null     float64\n",
      " 4   金额（元）   98 non-null     float64\n",
      "dtypes: float64(3), int64(1), object(1)\n",
      "memory usage: 4.3+ KB\n",
      "基本信息：\n",
      " None\n",
      "=========================================\n",
      "表格类型：\n",
      " 月份         int64\n",
      "样品代码     float64\n",
      "名称        object\n",
      "销量（箱）    float64\n",
      "金额（元）    float64\n",
      "dtype: object\n",
      "<class 'pandas.core.frame.DataFrame'>\n",
      "RangeIndex: 109 entries, 0 to 108\n",
      "Data columns (total 5 columns):\n",
      " #   Column  Non-Null Count  Dtype  \n",
      "---  ------  --------------  -----  \n",
      " 0   月份      109 non-null    int64  \n",
      " 1   样品代码    99 non-null     float64\n",
      " 2   名称      99 non-null     object \n",
      " 3   销量（箱）   99 non-null     float64\n",
      " 4   金额（元）   99 non-null     float64\n",
      "dtypes: float64(3), int64(1), object(1)\n",
      "memory usage: 4.4+ KB\n",
      "基本信息：\n",
      " None\n",
      "=========================================\n",
      "表格类型：\n",
      " 月份         int64\n",
      "样品代码     float64\n",
      "名称        object\n",
      "销量（箱）    float64\n",
      "金额（元）    float64\n",
      "dtype: object\n",
      "<class 'pandas.core.frame.DataFrame'>\n",
      "RangeIndex: 135 entries, 0 to 134\n",
      "Data columns (total 5 columns):\n",
      " #   Column  Non-Null Count  Dtype  \n",
      "---  ------  --------------  -----  \n",
      " 0   月份      135 non-null    int64  \n",
      " 1   样品代码    123 non-null    float64\n",
      " 2   名称      123 non-null    object \n",
      " 3   销量（箱）   123 non-null    float64\n",
      " 4   金额（元）   123 non-null    float64\n",
      "dtypes: float64(3), int64(1), object(1)\n",
      "memory usage: 5.4+ KB\n",
      "基本信息：\n",
      " None\n",
      "=========================================\n",
      "表格类型：\n",
      " 月份         int64\n",
      "样品代码     float64\n",
      "名称        object\n",
      "销量（箱）    float64\n",
      "金额（元）    float64\n",
      "dtype: object\n",
      "<class 'pandas.core.frame.DataFrame'>\n",
      "RangeIndex: 105 entries, 0 to 104\n",
      "Data columns (total 5 columns):\n",
      " #   Column  Non-Null Count  Dtype  \n",
      "---  ------  --------------  -----  \n",
      " 0   月份      105 non-null    int64  \n",
      " 1   样品代码    95 non-null     float64\n",
      " 2   名称      95 non-null     object \n",
      " 3   销量（箱）   95 non-null     float64\n",
      " 4   金额（元）   95 non-null     float64\n",
      "dtypes: float64(3), int64(1), object(1)\n",
      "memory usage: 4.2+ KB\n",
      "基本信息：\n",
      " None\n",
      "=========================================\n"
     ]
    }
   ],
   "source": [
    "for name, df in zip(names, dfs):\n",
    "    print(\"表格类型：\\n\", df.dtypes)\n",
    "    print(\"基本信息：\\n\", df.info())\n",
    "    print(\"=========================================\")"
   ]
  },
  {
   "cell_type": "markdown",
   "id": "0bd2bb36",
   "metadata": {},
   "source": [
    "- 检测异常类型并转换"
   ]
  },
  {
   "cell_type": "code",
   "execution_count": 5,
   "id": "04f100f2",
   "metadata": {},
   "outputs": [],
   "source": [
    "def convert_types(df):\n",
    "    # 转月份为日期\n",
    "    df['日期'] = pd.to_datetime(df['月份'].astype(str), format='%Y%m', errors='coerce')\n",
    "\n",
    "    # 样品代码转字符串\n",
    "    df['样品代码'] = df['样品代码'].astype('Int64').astype(str)\n",
    "\n",
    "    # 数值转换\n",
    "    df['销量（箱）'] = pd.to_numeric(df['销量（箱）'], errors='coerce')\n",
    "    df['金额（元）'] = pd.to_numeric(df['金额（元）'], errors='coerce')\n",
    "\n",
    "    return df\n",
    "\n",
    "for df in dfs:\n",
    "    df = convert_types(df)"
   ]
  },
  {
   "cell_type": "markdown",
   "id": "f1234ad0",
   "metadata": {},
   "source": [
    "  - 补全月份"
   ]
  },
  {
   "cell_type": "code",
   "execution_count": 6,
   "id": "22d053ca",
   "metadata": {},
   "outputs": [
    {
     "name": "stdout",
     "output_type": "stream",
     "text": [
      "===== 处理 A1 数据集 =====\n",
      "起止范围：2011-01 到 2022-07\n",
      "应有月份数：139，实际有数据的月份数：137\n",
      "缺失月份数：2，缺失月份如下：\n",
      "['2021-01', '2022-01']\n",
      "========================================\n",
      "===== 处理 A2 数据集 =====\n",
      "起止范围：2011-01 到 2020-05\n",
      "应有月份数：113，实际有数据的月份数：108\n",
      "缺失月份数：5，缺失月份如下：\n",
      "['2013-11', '2014-12', '2015-04', '2017-12', '2020-01']\n",
      "========================================\n",
      "===== 处理 A3 数据集 =====\n",
      "起止范围：2014-06 到 2023-11\n",
      "应有月份数：114，实际有数据的月份数：109\n",
      "缺失月份数：5，缺失月份如下：\n",
      "['2015-04', '2020-12', '2021-12', '2022-12', '2023-01']\n",
      "========================================\n",
      "===== 处理 A4 数据集 =====\n",
      "起止范围：2011-01 到 2024-01\n",
      "应有月份数：157，实际有数据的月份数：135\n",
      "缺失月份数：22，缺失月份如下：\n",
      "['2018-02', '2018-12', '2019-02', '2019-12', '2020-11', '2020-12', '2021-01', '2021-10', '2021-11', '2021-12', '2022-01', '2022-02', '2022-08', '2022-10', '2022-11', '2022-12', '2023-05', '2023-07', '2023-08', '2023-09', '2023-10', '2023-11']\n",
      "========================================\n",
      "===== 处理 A5 数据集 =====\n",
      "起止范围：2011-01 到 2024-04\n",
      "应有月份数：160，实际有数据的月份数：105\n",
      "缺失月份数：55，缺失月份如下：\n",
      "['2018-09', '2018-10', '2018-11', '2018-12', '2019-01', '2019-02', '2019-03', '2019-04', '2019-05', '2019-06', '2019-07', '2019-08', '2019-09', '2019-10', '2019-11', '2019-12', '2020-01', '2020-02', '2020-03', '2020-04', '2020-05', '2020-06', '2020-07', '2020-08', '2020-09', '2020-10', '2020-11', '2020-12', '2021-01', '2021-02', '2021-03', '2021-04', '2021-05', '2021-06', '2021-07', '2021-08', '2021-09', '2021-10', '2021-11', '2021-12', '2022-01', '2022-02', '2022-03', '2022-04', '2022-05', '2022-06', '2022-07', '2022-08', '2022-09', '2022-10', '2022-11', '2022-12', '2023-04', '2023-05', '2023-12']\n",
      "========================================\n"
     ]
    }
   ],
   "source": [
    "def preprocess_and_check_missing_months(df, date_col='月份', date_format='%Y%m'):\n",
    "    # 1. 转换为标准日期列（每月第一天）\n",
    "    df['日期'] = pd.to_datetime(df[date_col].astype(str), format=date_format, errors='coerce')\n",
    "\n",
    "    # 2. 构造完整月份索引（按月）\n",
    "    full_months = pd.date_range(start=df['日期'].min(), end=df['日期'].max(), freq='MS')\n",
    "\n",
    "    # 3. 获取原始数据中已存在的月份\n",
    "    present_months = pd.to_datetime(df['日期'].dropna().dt.to_period('M').astype(str), format='%Y-%m')\n",
    "\n",
    "    # 4. 找出缺失的月份（原数据中未出现）\n",
    "    missing_months = sorted(set(full_months) - set(present_months))\n",
    "\n",
    "    # 5. 返回结构\n",
    "    return {\n",
    "        \"起止范围\": (full_months.min(), full_months.max()),\n",
    "        \"总应有月份数\": len(full_months),\n",
    "        \"实际月份数\": len(present_months.unique()),\n",
    "        \"缺失月份数\": len(missing_months),\n",
    "        \"缺失月份列表\": [dt.strftime('%Y-%m') for dt in missing_months]\n",
    "    }\n",
    "\n",
    "# 批量处理\n",
    "for name, df in zip(names, dfs):\n",
    "    print(f\"===== 处理 {name} 数据集 =====\")\n",
    "    result = preprocess_and_check_missing_months(df)\n",
    "    print(f\"起止范围：{result['起止范围'][0].strftime('%Y-%m')} 到 {result['起止范围'][1].strftime('%Y-%m')}\")\n",
    "    print(f\"应有月份数：{result['总应有月份数']}，实际有数据的月份数：{result['实际月份数']}\")\n",
    "    print(f\"缺失月份数：{result['缺失月份数']}，缺失月份如下：\")\n",
    "    print(result['缺失月份列表'])\n",
    "    print(\"=\"*40)\n"
   ]
  },
  {
   "cell_type": "code",
   "execution_count": 7,
   "id": "6fba6fda",
   "metadata": {},
   "outputs": [
    {
     "name": "stdout",
     "output_type": "stream",
     "text": [
      "训练集： (102, 6) 最早→最晚： 2011-01-01 00:00:00 2019-06-01 00:00:00\n",
      "预测集： (10, 6) 含空白月份： [Timestamp('2019-07-01 00:00:00'), Timestamp('2019-08-01 00:00:00'), Timestamp('2019-09-01 00:00:00'), Timestamp('2019-10-01 00:00:00'), Timestamp('2019-11-01 00:00:00'), Timestamp('2019-12-01 00:00:00'), Timestamp('2020-02-01 00:00:00'), Timestamp('2020-03-01 00:00:00'), Timestamp('2020-04-01 00:00:00'), Timestamp('2020-05-01 00:00:00')]\n"
     ]
    }
   ],
   "source": [
    "import pandas as pd\n",
    "\n",
    "def preprocess_for_forecast(df, date_col='月份'):\n",
    "    # 1. 转换“月份”列为 datetime\n",
    "    df = df.copy()\n",
    "    df['日期'] = pd.to_datetime(df[date_col].astype(str), format='%Y%m')\n",
    "    \n",
    "    # 2. 找到最后一个有销量的观测点\n",
    "    last_obs = df.loc[df['销量（箱）'].notna(), '日期'].max()\n",
    "    \n",
    "    # 3. 拆分训练集 / 预测集\n",
    "    train = df[df['日期'] <= last_obs].copy()\n",
    "    pred  = df[df['日期'] >  last_obs].copy()\n",
    "    \n",
    "    # 4. 补齐训练集中的所有断月\n",
    "    full_idx = pd.date_range(start=train['日期'].min(),\n",
    "                             end=last_obs,\n",
    "                             freq='MS')\n",
    "    train = train.set_index('日期').reindex(full_idx).rename_axis('日期').reset_index()\n",
    "    \n",
    "    # 5. 填充训练集缺失值\n",
    "    # 类别列前向填充\n",
    "    train['样品代码'] = train['样品代码'].ffill()\n",
    "    train['名称']    = train['名称'].ffill()\n",
    "    # 数值列线性插值\n",
    "    train['销量（箱）'] = train['销量（箱）'].interpolate()\n",
    "    train['金额（元）'] = train['金额（元）'].interpolate()\n",
    "    \n",
    "    # 6. 还原“月份”列（如果需要）\n",
    "    train['月份'] = train['日期'].dt.strftime('%Y%m').astype(int)\n",
    "    pred ['月份'] = pred ['日期'].dt.strftime('%Y%m').astype(int)\n",
    "    \n",
    "    return train, pred\n",
    "\n",
    "# ===== 用法示例 =====\n",
    "df = pd.read_csv(base_path + file_names[1], encoding='utf-8-sig')\n",
    "train_df, pred_df = preprocess_for_forecast(df)\n",
    "\n",
    "print(\"训练集：\", train_df.shape, \"最早→最晚：\", train_df['日期'].min(), train_df['日期'].max())\n",
    "print(\"预测集：\", pred_df.shape, \"含空白月份：\", pred_df['日期'].tolist())\n"
   ]
  },
  {
   "cell_type": "code",
   "execution_count": null,
   "id": "d25d1d18",
   "metadata": {},
   "outputs": [],
   "source": []
  }
 ],
 "metadata": {
  "kernelspec": {
   "display_name": "ml2025-base",
   "language": "python",
   "name": "python3"
  },
  "language_info": {
   "codemirror_mode": {
    "name": "ipython",
    "version": 3
   },
   "file_extension": ".py",
   "mimetype": "text/x-python",
   "name": "python",
   "nbconvert_exporter": "python",
   "pygments_lexer": "ipython3",
   "version": "3.10.16"
  }
 },
 "nbformat": 4,
 "nbformat_minor": 5
}
