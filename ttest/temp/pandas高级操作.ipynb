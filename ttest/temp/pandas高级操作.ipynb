{
 "cells": [
  {
   "cell_type": "code",
   "execution_count": 1,
   "id": "f41a47c6",
   "metadata": {},
   "outputs": [],
   "source": [
    "import numpy as np\n",
    "import pandas as pd\n",
    "from pandas import DataFrame"
   ]
  },
  {
   "cell_type": "code",
   "execution_count": 2,
   "id": "6eb60a77",
   "metadata": {},
   "outputs": [
    {
     "data": {
      "application/vnd.microsoft.datawrangler.viewer.v0+json": {
       "columns": [
        {
         "name": "index",
         "rawType": "int64",
         "type": "integer"
        },
        {
         "name": "0",
         "rawType": "int32",
         "type": "integer"
        },
        {
         "name": "1",
         "rawType": "int32",
         "type": "integer"
        },
        {
         "name": "2",
         "rawType": "int32",
         "type": "integer"
        },
        {
         "name": "3",
         "rawType": "int32",
         "type": "integer"
        },
        {
         "name": "4",
         "rawType": "int32",
         "type": "integer"
        },
        {
         "name": "5",
         "rawType": "int32",
         "type": "integer"
        }
       ],
       "ref": "97afebdb-004b-490d-a036-44ed2ef94159",
       "rows": [
        [
         "0",
         "82",
         "9",
         "14",
         "73",
         "33",
         "96"
        ],
        [
         "1",
         "29",
         "92",
         "61",
         "51",
         "58",
         "20"
        ],
        [
         "2",
         "74",
         "60",
         "94",
         "79",
         "72",
         "53"
        ],
        [
         "3",
         "25",
         "7",
         "36",
         "47",
         "96",
         "54"
        ],
        [
         "4",
         "94",
         "86",
         "95",
         "4",
         "1",
         "39"
        ]
       ],
       "shape": {
        "columns": 6,
        "rows": 5
       }
      },
      "text/html": [
       "<div>\n",
       "<style scoped>\n",
       "    .dataframe tbody tr th:only-of-type {\n",
       "        vertical-align: middle;\n",
       "    }\n",
       "\n",
       "    .dataframe tbody tr th {\n",
       "        vertical-align: top;\n",
       "    }\n",
       "\n",
       "    .dataframe thead th {\n",
       "        text-align: right;\n",
       "    }\n",
       "</style>\n",
       "<table border=\"1\" class=\"dataframe\">\n",
       "  <thead>\n",
       "    <tr style=\"text-align: right;\">\n",
       "      <th></th>\n",
       "      <th>0</th>\n",
       "      <th>1</th>\n",
       "      <th>2</th>\n",
       "      <th>3</th>\n",
       "      <th>4</th>\n",
       "      <th>5</th>\n",
       "    </tr>\n",
       "  </thead>\n",
       "  <tbody>\n",
       "    <tr>\n",
       "      <th>0</th>\n",
       "      <td>82</td>\n",
       "      <td>9</td>\n",
       "      <td>14</td>\n",
       "      <td>73</td>\n",
       "      <td>33</td>\n",
       "      <td>96</td>\n",
       "    </tr>\n",
       "    <tr>\n",
       "      <th>1</th>\n",
       "      <td>29</td>\n",
       "      <td>92</td>\n",
       "      <td>61</td>\n",
       "      <td>51</td>\n",
       "      <td>58</td>\n",
       "      <td>20</td>\n",
       "    </tr>\n",
       "    <tr>\n",
       "      <th>2</th>\n",
       "      <td>74</td>\n",
       "      <td>60</td>\n",
       "      <td>94</td>\n",
       "      <td>79</td>\n",
       "      <td>72</td>\n",
       "      <td>53</td>\n",
       "    </tr>\n",
       "    <tr>\n",
       "      <th>3</th>\n",
       "      <td>25</td>\n",
       "      <td>7</td>\n",
       "      <td>36</td>\n",
       "      <td>47</td>\n",
       "      <td>96</td>\n",
       "      <td>54</td>\n",
       "    </tr>\n",
       "    <tr>\n",
       "      <th>4</th>\n",
       "      <td>94</td>\n",
       "      <td>86</td>\n",
       "      <td>95</td>\n",
       "      <td>4</td>\n",
       "      <td>1</td>\n",
       "      <td>39</td>\n",
       "    </tr>\n",
       "  </tbody>\n",
       "</table>\n",
       "</div>"
      ],
      "text/plain": [
       "    0   1   2   3   4   5\n",
       "0  82   9  14  73  33  96\n",
       "1  29  92  61  51  58  20\n",
       "2  74  60  94  79  72  53\n",
       "3  25   7  36  47  96  54\n",
       "4  94  86  95   4   1  39"
      ]
     },
     "execution_count": 2,
     "metadata": {},
     "output_type": "execute_result"
    }
   ],
   "source": [
    "df = DataFrame(data=np.random.randint(0, 100, size=(5, 6)))\n",
    "df"
   ]
  },
  {
   "cell_type": "code",
   "execution_count": 4,
   "id": "dda2f4f3",
   "metadata": {},
   "outputs": [
    {
     "data": {
      "application/vnd.microsoft.datawrangler.viewer.v0+json": {
       "columns": [
        {
         "name": "index",
         "rawType": "int64",
         "type": "integer"
        },
        {
         "name": "0",
         "rawType": "int32",
         "type": "integer"
        },
        {
         "name": "1",
         "rawType": "object",
         "type": "unknown"
        },
        {
         "name": "2",
         "rawType": "int32",
         "type": "integer"
        },
        {
         "name": "3",
         "rawType": "int32",
         "type": "integer"
        },
        {
         "name": "4",
         "rawType": "int32",
         "type": "integer"
        },
        {
         "name": "5",
         "rawType": "int32",
         "type": "integer"
        }
       ],
       "ref": "4ca06217-e845-42db-bc2a-7a19a419f8f3",
       "rows": [
        [
         "0",
         "82",
         "9",
         "14",
         "73",
         "33",
         "96"
        ],
        [
         "1",
         "29",
         "92",
         "61",
         "51",
         "58",
         "20"
        ],
        [
         "2",
         "74",
         "60",
         "94",
         "79",
         "72",
         "53"
        ],
        [
         "3",
         "25",
         "Two",
         "36",
         "47",
         "96",
         "54"
        ],
        [
         "4",
         "94",
         "86",
         "95",
         "4",
         "1",
         "39"
        ]
       ],
       "shape": {
        "columns": 6,
        "rows": 5
       }
      },
      "text/html": [
       "<div>\n",
       "<style scoped>\n",
       "    .dataframe tbody tr th:only-of-type {\n",
       "        vertical-align: middle;\n",
       "    }\n",
       "\n",
       "    .dataframe tbody tr th {\n",
       "        vertical-align: top;\n",
       "    }\n",
       "\n",
       "    .dataframe thead th {\n",
       "        text-align: right;\n",
       "    }\n",
       "</style>\n",
       "<table border=\"1\" class=\"dataframe\">\n",
       "  <thead>\n",
       "    <tr style=\"text-align: right;\">\n",
       "      <th></th>\n",
       "      <th>0</th>\n",
       "      <th>1</th>\n",
       "      <th>2</th>\n",
       "      <th>3</th>\n",
       "      <th>4</th>\n",
       "      <th>5</th>\n",
       "    </tr>\n",
       "  </thead>\n",
       "  <tbody>\n",
       "    <tr>\n",
       "      <th>0</th>\n",
       "      <td>82</td>\n",
       "      <td>9</td>\n",
       "      <td>14</td>\n",
       "      <td>73</td>\n",
       "      <td>33</td>\n",
       "      <td>96</td>\n",
       "    </tr>\n",
       "    <tr>\n",
       "      <th>1</th>\n",
       "      <td>29</td>\n",
       "      <td>92</td>\n",
       "      <td>61</td>\n",
       "      <td>51</td>\n",
       "      <td>58</td>\n",
       "      <td>20</td>\n",
       "    </tr>\n",
       "    <tr>\n",
       "      <th>2</th>\n",
       "      <td>74</td>\n",
       "      <td>60</td>\n",
       "      <td>94</td>\n",
       "      <td>79</td>\n",
       "      <td>72</td>\n",
       "      <td>53</td>\n",
       "    </tr>\n",
       "    <tr>\n",
       "      <th>3</th>\n",
       "      <td>25</td>\n",
       "      <td>Two</td>\n",
       "      <td>36</td>\n",
       "      <td>47</td>\n",
       "      <td>96</td>\n",
       "      <td>54</td>\n",
       "    </tr>\n",
       "    <tr>\n",
       "      <th>4</th>\n",
       "      <td>94</td>\n",
       "      <td>86</td>\n",
       "      <td>95</td>\n",
       "      <td>4</td>\n",
       "      <td>1</td>\n",
       "      <td>39</td>\n",
       "    </tr>\n",
       "  </tbody>\n",
       "</table>\n",
       "</div>"
      ],
      "text/plain": [
       "    0    1   2   3   4   5\n",
       "0  82    9  14  73  33  96\n",
       "1  29   92  61  51  58  20\n",
       "2  74   60  94  79  72  53\n",
       "3  25  Two  36  47  96  54\n",
       "4  94   86  95   4   1  39"
      ]
     },
     "execution_count": 4,
     "metadata": {},
     "output_type": "execute_result"
    }
   ],
   "source": [
    "df.replace(to_replace=7, value='Two')"
   ]
  },
  {
   "cell_type": "code",
   "execution_count": 5,
   "id": "fe419f12",
   "metadata": {},
   "outputs": [
    {
     "data": {
      "application/vnd.microsoft.datawrangler.viewer.v0+json": {
       "columns": [
        {
         "name": "index",
         "rawType": "int64",
         "type": "integer"
        },
        {
         "name": "0",
         "rawType": "int32",
         "type": "integer"
        },
        {
         "name": "1",
         "rawType": "int32",
         "type": "integer"
        },
        {
         "name": "2",
         "rawType": "int32",
         "type": "integer"
        },
        {
         "name": "3",
         "rawType": "int32",
         "type": "integer"
        },
        {
         "name": "4",
         "rawType": "object",
         "type": "unknown"
        },
        {
         "name": "5",
         "rawType": "int32",
         "type": "integer"
        }
       ],
       "ref": "b0740c04-f9cd-400c-8350-d3b6ea8be4b6",
       "rows": [
        [
         "0",
         "82",
         "9",
         "14",
         "73",
         "33",
         "96"
        ],
        [
         "1",
         "29",
         "92",
         "61",
         "51",
         "58",
         "20"
        ],
        [
         "2",
         "74",
         "60",
         "94",
         "79",
         "72",
         "53"
        ],
        [
         "3",
         "25",
         "7",
         "36",
         "47",
         "96",
         "54"
        ],
        [
         "4",
         "94",
         "86",
         "95",
         "4",
         "one",
         "39"
        ]
       ],
       "shape": {
        "columns": 6,
        "rows": 5
       }
      },
      "text/html": [
       "<div>\n",
       "<style scoped>\n",
       "    .dataframe tbody tr th:only-of-type {\n",
       "        vertical-align: middle;\n",
       "    }\n",
       "\n",
       "    .dataframe tbody tr th {\n",
       "        vertical-align: top;\n",
       "    }\n",
       "\n",
       "    .dataframe thead th {\n",
       "        text-align: right;\n",
       "    }\n",
       "</style>\n",
       "<table border=\"1\" class=\"dataframe\">\n",
       "  <thead>\n",
       "    <tr style=\"text-align: right;\">\n",
       "      <th></th>\n",
       "      <th>0</th>\n",
       "      <th>1</th>\n",
       "      <th>2</th>\n",
       "      <th>3</th>\n",
       "      <th>4</th>\n",
       "      <th>5</th>\n",
       "    </tr>\n",
       "  </thead>\n",
       "  <tbody>\n",
       "    <tr>\n",
       "      <th>0</th>\n",
       "      <td>82</td>\n",
       "      <td>9</td>\n",
       "      <td>14</td>\n",
       "      <td>73</td>\n",
       "      <td>33</td>\n",
       "      <td>96</td>\n",
       "    </tr>\n",
       "    <tr>\n",
       "      <th>1</th>\n",
       "      <td>29</td>\n",
       "      <td>92</td>\n",
       "      <td>61</td>\n",
       "      <td>51</td>\n",
       "      <td>58</td>\n",
       "      <td>20</td>\n",
       "    </tr>\n",
       "    <tr>\n",
       "      <th>2</th>\n",
       "      <td>74</td>\n",
       "      <td>60</td>\n",
       "      <td>94</td>\n",
       "      <td>79</td>\n",
       "      <td>72</td>\n",
       "      <td>53</td>\n",
       "    </tr>\n",
       "    <tr>\n",
       "      <th>3</th>\n",
       "      <td>25</td>\n",
       "      <td>7</td>\n",
       "      <td>36</td>\n",
       "      <td>47</td>\n",
       "      <td>96</td>\n",
       "      <td>54</td>\n",
       "    </tr>\n",
       "    <tr>\n",
       "      <th>4</th>\n",
       "      <td>94</td>\n",
       "      <td>86</td>\n",
       "      <td>95</td>\n",
       "      <td>4</td>\n",
       "      <td>one</td>\n",
       "      <td>39</td>\n",
       "    </tr>\n",
       "  </tbody>\n",
       "</table>\n",
       "</div>"
      ],
      "text/plain": [
       "    0   1   2   3    4   5\n",
       "0  82   9  14  73   33  96\n",
       "1  29  92  61  51   58  20\n",
       "2  74  60  94  79   72  53\n",
       "3  25   7  36  47   96  54\n",
       "4  94  86  95   4  one  39"
      ]
     },
     "execution_count": 5,
     "metadata": {},
     "output_type": "execute_result"
    }
   ],
   "source": [
    "df.replace(to_replace={1: 'one'})"
   ]
  },
  {
   "cell_type": "code",
   "execution_count": 11,
   "id": "65377233",
   "metadata": {},
   "outputs": [
    {
     "data": {
      "application/vnd.microsoft.datawrangler.viewer.v0+json": {
       "columns": [
        {
         "name": "index",
         "rawType": "int64",
         "type": "integer"
        },
        {
         "name": "0",
         "rawType": "int32",
         "type": "integer"
        },
        {
         "name": "1",
         "rawType": "int32",
         "type": "integer"
        },
        {
         "name": "2",
         "rawType": "int32",
         "type": "integer"
        },
        {
         "name": "3",
         "rawType": "object",
         "type": "unknown"
        },
        {
         "name": "4",
         "rawType": "int32",
         "type": "integer"
        },
        {
         "name": "5",
         "rawType": "int32",
         "type": "integer"
        }
       ],
       "ref": "9bd281a2-0fe6-4b68-861e-efe4fd15d679",
       "rows": [
        [
         "0",
         "82",
         "9",
         "14",
         "73",
         "33",
         "96"
        ],
        [
         "1",
         "29",
         "92",
         "61",
         "51",
         "58",
         "20"
        ],
        [
         "2",
         "74",
         "60",
         "94",
         "79",
         "72",
         "53"
        ],
        [
         "3",
         "25",
         "7",
         "36",
         "47",
         "96",
         "54"
        ],
        [
         "4",
         "94",
         "86",
         "95",
         "four",
         "1",
         "39"
        ]
       ],
       "shape": {
        "columns": 6,
        "rows": 5
       }
      },
      "text/html": [
       "<div>\n",
       "<style scoped>\n",
       "    .dataframe tbody tr th:only-of-type {\n",
       "        vertical-align: middle;\n",
       "    }\n",
       "\n",
       "    .dataframe tbody tr th {\n",
       "        vertical-align: top;\n",
       "    }\n",
       "\n",
       "    .dataframe thead th {\n",
       "        text-align: right;\n",
       "    }\n",
       "</style>\n",
       "<table border=\"1\" class=\"dataframe\">\n",
       "  <thead>\n",
       "    <tr style=\"text-align: right;\">\n",
       "      <th></th>\n",
       "      <th>0</th>\n",
       "      <th>1</th>\n",
       "      <th>2</th>\n",
       "      <th>3</th>\n",
       "      <th>4</th>\n",
       "      <th>5</th>\n",
       "    </tr>\n",
       "  </thead>\n",
       "  <tbody>\n",
       "    <tr>\n",
       "      <th>0</th>\n",
       "      <td>82</td>\n",
       "      <td>9</td>\n",
       "      <td>14</td>\n",
       "      <td>73</td>\n",
       "      <td>33</td>\n",
       "      <td>96</td>\n",
       "    </tr>\n",
       "    <tr>\n",
       "      <th>1</th>\n",
       "      <td>29</td>\n",
       "      <td>92</td>\n",
       "      <td>61</td>\n",
       "      <td>51</td>\n",
       "      <td>58</td>\n",
       "      <td>20</td>\n",
       "    </tr>\n",
       "    <tr>\n",
       "      <th>2</th>\n",
       "      <td>74</td>\n",
       "      <td>60</td>\n",
       "      <td>94</td>\n",
       "      <td>79</td>\n",
       "      <td>72</td>\n",
       "      <td>53</td>\n",
       "    </tr>\n",
       "    <tr>\n",
       "      <th>3</th>\n",
       "      <td>25</td>\n",
       "      <td>7</td>\n",
       "      <td>36</td>\n",
       "      <td>47</td>\n",
       "      <td>96</td>\n",
       "      <td>54</td>\n",
       "    </tr>\n",
       "    <tr>\n",
       "      <th>4</th>\n",
       "      <td>94</td>\n",
       "      <td>86</td>\n",
       "      <td>95</td>\n",
       "      <td>four</td>\n",
       "      <td>1</td>\n",
       "      <td>39</td>\n",
       "    </tr>\n",
       "  </tbody>\n",
       "</table>\n",
       "</div>"
      ],
      "text/plain": [
       "    0   1   2     3   4   5\n",
       "0  82   9  14    73  33  96\n",
       "1  29  92  61    51  58  20\n",
       "2  74  60  94    79  72  53\n",
       "3  25   7  36    47  96  54\n",
       "4  94  86  95  four   1  39"
      ]
     },
     "execution_count": 11,
     "metadata": {},
     "output_type": "execute_result"
    }
   ],
   "source": [
    "df.replace(to_replace={3: 4}, value='four')"
   ]
  },
  {
   "cell_type": "code",
   "execution_count": 12,
   "id": "6aafd0eb",
   "metadata": {},
   "outputs": [
    {
     "data": {
      "application/vnd.microsoft.datawrangler.viewer.v0+json": {
       "columns": [
        {
         "name": "index",
         "rawType": "int64",
         "type": "integer"
        },
        {
         "name": "name",
         "rawType": "object",
         "type": "string"
        },
        {
         "name": "salary",
         "rawType": "int64",
         "type": "integer"
        }
       ],
       "ref": "86b96100-3e53-4bf5-89b9-463f1d2cfe87",
       "rows": [
        [
         "0",
         "张三",
         "15000"
        ],
        [
         "1",
         "李四",
         "20000"
        ],
        [
         "2",
         "张三",
         "15000"
        ]
       ],
       "shape": {
        "columns": 2,
        "rows": 3
       }
      },
      "text/html": [
       "<div>\n",
       "<style scoped>\n",
       "    .dataframe tbody tr th:only-of-type {\n",
       "        vertical-align: middle;\n",
       "    }\n",
       "\n",
       "    .dataframe tbody tr th {\n",
       "        vertical-align: top;\n",
       "    }\n",
       "\n",
       "    .dataframe thead th {\n",
       "        text-align: right;\n",
       "    }\n",
       "</style>\n",
       "<table border=\"1\" class=\"dataframe\">\n",
       "  <thead>\n",
       "    <tr style=\"text-align: right;\">\n",
       "      <th></th>\n",
       "      <th>name</th>\n",
       "      <th>salary</th>\n",
       "    </tr>\n",
       "  </thead>\n",
       "  <tbody>\n",
       "    <tr>\n",
       "      <th>0</th>\n",
       "      <td>张三</td>\n",
       "      <td>15000</td>\n",
       "    </tr>\n",
       "    <tr>\n",
       "      <th>1</th>\n",
       "      <td>李四</td>\n",
       "      <td>20000</td>\n",
       "    </tr>\n",
       "    <tr>\n",
       "      <th>2</th>\n",
       "      <td>张三</td>\n",
       "      <td>15000</td>\n",
       "    </tr>\n",
       "  </tbody>\n",
       "</table>\n",
       "</div>"
      ],
      "text/plain": [
       "  name  salary\n",
       "0   张三   15000\n",
       "1   李四   20000\n",
       "2   张三   15000"
      ]
     },
     "execution_count": 12,
     "metadata": {},
     "output_type": "execute_result"
    }
   ],
   "source": [
    "dic = {\n",
    "    'name':['张三', '李四', '张三'],\n",
    "    'salary':[15000, 20000, 15000]\n",
    "}\n",
    "df = DataFrame(data=dic)\n",
    "df"
   ]
  },
  {
   "cell_type": "code",
   "execution_count": 14,
   "id": "04b78152",
   "metadata": {},
   "outputs": [
    {
     "data": {
      "application/vnd.microsoft.datawrangler.viewer.v0+json": {
       "columns": [
        {
         "name": "index",
         "rawType": "int64",
         "type": "integer"
        },
        {
         "name": "name",
         "rawType": "object",
         "type": "string"
        },
        {
         "name": "salary",
         "rawType": "int64",
         "type": "integer"
        },
        {
         "name": "e_name",
         "rawType": "object",
         "type": "string"
        }
       ],
       "ref": "20dd1e74-91a3-4fe1-ab1f-ed576a210e21",
       "rows": [
        [
         "0",
         "张三",
         "15000",
         "tom"
        ],
        [
         "1",
         "李四",
         "20000",
         "jack"
        ],
        [
         "2",
         "张三",
         "15000",
         "tom"
        ]
       ],
       "shape": {
        "columns": 3,
        "rows": 3
       }
      },
      "text/html": [
       "<div>\n",
       "<style scoped>\n",
       "    .dataframe tbody tr th:only-of-type {\n",
       "        vertical-align: middle;\n",
       "    }\n",
       "\n",
       "    .dataframe tbody tr th {\n",
       "        vertical-align: top;\n",
       "    }\n",
       "\n",
       "    .dataframe thead th {\n",
       "        text-align: right;\n",
       "    }\n",
       "</style>\n",
       "<table border=\"1\" class=\"dataframe\">\n",
       "  <thead>\n",
       "    <tr style=\"text-align: right;\">\n",
       "      <th></th>\n",
       "      <th>name</th>\n",
       "      <th>salary</th>\n",
       "      <th>e_name</th>\n",
       "    </tr>\n",
       "  </thead>\n",
       "  <tbody>\n",
       "    <tr>\n",
       "      <th>0</th>\n",
       "      <td>张三</td>\n",
       "      <td>15000</td>\n",
       "      <td>tom</td>\n",
       "    </tr>\n",
       "    <tr>\n",
       "      <th>1</th>\n",
       "      <td>李四</td>\n",
       "      <td>20000</td>\n",
       "      <td>jack</td>\n",
       "    </tr>\n",
       "    <tr>\n",
       "      <th>2</th>\n",
       "      <td>张三</td>\n",
       "      <td>15000</td>\n",
       "      <td>tom</td>\n",
       "    </tr>\n",
       "  </tbody>\n",
       "</table>\n",
       "</div>"
      ],
      "text/plain": [
       "  name  salary e_name\n",
       "0   张三   15000    tom\n",
       "1   李四   20000   jack\n",
       "2   张三   15000    tom"
      ]
     },
     "execution_count": 14,
     "metadata": {},
     "output_type": "execute_result"
    }
   ],
   "source": [
    "dic = {\n",
    "    '张三':'tom',\n",
    "    '李四':'jack'\n",
    "}\n",
    "df['e_name'] = df['name'].map(dic)\n",
    "df"
   ]
  },
  {
   "cell_type": "code",
   "execution_count": 15,
   "id": "64947dcf",
   "metadata": {},
   "outputs": [
    {
     "data": {
      "application/vnd.microsoft.datawrangler.viewer.v0+json": {
       "columns": [
        {
         "name": "index",
         "rawType": "int64",
         "type": "integer"
        },
        {
         "name": "name",
         "rawType": "object",
         "type": "string"
        },
        {
         "name": "salary",
         "rawType": "int64",
         "type": "integer"
        },
        {
         "name": "e_name",
         "rawType": "object",
         "type": "string"
        },
        {
         "name": "after_sal",
         "rawType": "float64",
         "type": "float"
        }
       ],
       "ref": "81cd5b2a-cc40-4125-b41a-846a7185ae18",
       "rows": [
        [
         "0",
         "张三",
         "15000",
         "tom",
         "9000.0"
        ],
        [
         "1",
         "李四",
         "20000",
         "jack",
         "11500.0"
        ],
        [
         "2",
         "张三",
         "15000",
         "tom",
         "9000.0"
        ]
       ],
       "shape": {
        "columns": 4,
        "rows": 3
       }
      },
      "text/html": [
       "<div>\n",
       "<style scoped>\n",
       "    .dataframe tbody tr th:only-of-type {\n",
       "        vertical-align: middle;\n",
       "    }\n",
       "\n",
       "    .dataframe tbody tr th {\n",
       "        vertical-align: top;\n",
       "    }\n",
       "\n",
       "    .dataframe thead th {\n",
       "        text-align: right;\n",
       "    }\n",
       "</style>\n",
       "<table border=\"1\" class=\"dataframe\">\n",
       "  <thead>\n",
       "    <tr style=\"text-align: right;\">\n",
       "      <th></th>\n",
       "      <th>name</th>\n",
       "      <th>salary</th>\n",
       "      <th>e_name</th>\n",
       "      <th>after_sal</th>\n",
       "    </tr>\n",
       "  </thead>\n",
       "  <tbody>\n",
       "    <tr>\n",
       "      <th>0</th>\n",
       "      <td>张三</td>\n",
       "      <td>15000</td>\n",
       "      <td>tom</td>\n",
       "      <td>9000.0</td>\n",
       "    </tr>\n",
       "    <tr>\n",
       "      <th>1</th>\n",
       "      <td>李四</td>\n",
       "      <td>20000</td>\n",
       "      <td>jack</td>\n",
       "      <td>11500.0</td>\n",
       "    </tr>\n",
       "    <tr>\n",
       "      <th>2</th>\n",
       "      <td>张三</td>\n",
       "      <td>15000</td>\n",
       "      <td>tom</td>\n",
       "      <td>9000.0</td>\n",
       "    </tr>\n",
       "  </tbody>\n",
       "</table>\n",
       "</div>"
      ],
      "text/plain": [
       "  name  salary e_name  after_sal\n",
       "0   张三   15000    tom     9000.0\n",
       "1   李四   20000   jack    11500.0\n",
       "2   张三   15000    tom     9000.0"
      ]
     },
     "execution_count": 15,
     "metadata": {},
     "output_type": "execute_result"
    }
   ],
   "source": [
    "def after_sal(s):\n",
    "    return s - (s - 3000) * 0.5\n",
    "\n",
    "df['after_sal'] = df['salary'].map(after_sal)\n",
    "df"
   ]
  },
  {
   "cell_type": "code",
   "execution_count": null,
   "id": "edfa56e3",
   "metadata": {},
   "outputs": [],
   "source": [
    "df = DataFrame()"
   ]
  }
 ],
 "metadata": {
  "kernelspec": {
   "display_name": "ml2025-base",
   "language": "python",
   "name": "python3"
  },
  "language_info": {
   "codemirror_mode": {
    "name": "ipython",
    "version": 3
   },
   "file_extension": ".py",
   "mimetype": "text/x-python",
   "name": "python",
   "nbconvert_exporter": "python",
   "pygments_lexer": "ipython3",
   "version": "3.10.16"
  }
 },
 "nbformat": 4,
 "nbformat_minor": 5
}
