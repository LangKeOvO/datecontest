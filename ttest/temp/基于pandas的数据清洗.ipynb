{
 "cells": [
  {
   "cell_type": "markdown",
   "id": "1e1c1efe",
   "metadata": {},
   "source": [
    "#### 处理丢失数据\n",
    "- 有两种丢失数据：\n",
    "  - None\n",
    "  - np.nan(NaN)"
   ]
  },
  {
   "cell_type": "code",
   "execution_count": 2,
   "id": "91f6cc81",
   "metadata": {},
   "outputs": [
    {
     "data": {
      "text/plain": [
       "NoneType"
      ]
     },
     "execution_count": 2,
     "metadata": {},
     "output_type": "execute_result"
    }
   ],
   "source": [
    "import numpy as np\n",
    "type(None)"
   ]
  },
  {
   "cell_type": "code",
   "execution_count": 3,
   "id": "f4a70743",
   "metadata": {},
   "outputs": [
    {
     "data": {
      "text/plain": [
       "float"
      ]
     },
     "execution_count": 3,
     "metadata": {},
     "output_type": "execute_result"
    }
   ],
   "source": [
    "type(np.nan)"
   ]
  },
  {
   "cell_type": "markdown",
   "id": "0d71f3f6",
   "metadata": {},
   "source": [
    "- 为什么在数据分析中需要用到的是浮点类型的空而不是对象类型\n",
    "  - 数据分析中会常常使用某些形式的运算来处理原始数据，如果原始数据中的空值为NaN的形式，则不会干扰或者中断运算\n",
    "  - NaN可以参与运算的\n",
    "  - None是不可以参与运算的\n",
    "\n",
    "- 在pandas中如果遇到了None形式的空值，则pandas会将其强转成NaN形式"
   ]
  },
  {
   "cell_type": "code",
   "execution_count": 4,
   "id": "d79ffa66",
   "metadata": {},
   "outputs": [
    {
     "data": {
      "text/plain": [
       "nan"
      ]
     },
     "execution_count": 4,
     "metadata": {},
     "output_type": "execute_result"
    }
   ],
   "source": [
    "np.nan + 1"
   ]
  },
  {
   "cell_type": "markdown",
   "id": "c5d14093",
   "metadata": {},
   "source": [
    "#### pandas处理空值的操作\n",
    "- isnull\n",
    "- notnull\n",
    "- any\n",
    "- all\n",
    "- dropna\n",
    "- fillna"
   ]
  },
  {
   "cell_type": "code",
   "execution_count": 5,
   "id": "f2a88e58",
   "metadata": {},
   "outputs": [],
   "source": [
    "import pandas as pd\n",
    "from pandas import DataFrame, Series"
   ]
  },
  {
   "cell_type": "code",
   "execution_count": 6,
   "id": "333b4a8e",
   "metadata": {},
   "outputs": [
    {
     "data": {
      "application/vnd.microsoft.datawrangler.viewer.v0+json": {
       "columns": [
        {
         "name": "index",
         "rawType": "int64",
         "type": "integer"
        },
        {
         "name": "0",
         "rawType": "int32",
         "type": "integer"
        },
        {
         "name": "1",
         "rawType": "int32",
         "type": "integer"
        },
        {
         "name": "2",
         "rawType": "float64",
         "type": "float"
        },
        {
         "name": "3",
         "rawType": "float64",
         "type": "float"
        },
        {
         "name": "4",
         "rawType": "float64",
         "type": "float"
        },
        {
         "name": "5",
         "rawType": "int32",
         "type": "integer"
        }
       ],
       "ref": "a78bc7df-4fb5-4e11-915e-97f52a4cd644",
       "rows": [
        [
         "0",
         "3",
         "9",
         "98.0",
         "79.0",
         "96.0",
         "11"
        ],
        [
         "1",
         "86",
         "8",
         "30.0",
         "86.0",
         "0.0",
         "29"
        ],
        [
         "2",
         "47",
         "82",
         "47.0",
         null,
         "2.0",
         "19"
        ],
        [
         "3",
         "75",
         "21",
         "74.0",
         "68.0",
         "2.0",
         "24"
        ],
        [
         "4",
         "52",
         "90",
         "46.0",
         "64.0",
         null,
         "48"
        ],
        [
         "5",
         "72",
         "4",
         null,
         "92.0",
         "96.0",
         "13"
        ],
        [
         "6",
         "87",
         "1",
         "2.0",
         "34.0",
         "3.0",
         "65"
        ],
        [
         "7",
         "61",
         "2",
         "81.0",
         "95.0",
         "91.0",
         "2"
        ]
       ],
       "shape": {
        "columns": 6,
        "rows": 8
       }
      },
      "text/html": [
       "<div>\n",
       "<style scoped>\n",
       "    .dataframe tbody tr th:only-of-type {\n",
       "        vertical-align: middle;\n",
       "    }\n",
       "\n",
       "    .dataframe tbody tr th {\n",
       "        vertical-align: top;\n",
       "    }\n",
       "\n",
       "    .dataframe thead th {\n",
       "        text-align: right;\n",
       "    }\n",
       "</style>\n",
       "<table border=\"1\" class=\"dataframe\">\n",
       "  <thead>\n",
       "    <tr style=\"text-align: right;\">\n",
       "      <th></th>\n",
       "      <th>0</th>\n",
       "      <th>1</th>\n",
       "      <th>2</th>\n",
       "      <th>3</th>\n",
       "      <th>4</th>\n",
       "      <th>5</th>\n",
       "    </tr>\n",
       "  </thead>\n",
       "  <tbody>\n",
       "    <tr>\n",
       "      <th>0</th>\n",
       "      <td>3</td>\n",
       "      <td>9</td>\n",
       "      <td>98.0</td>\n",
       "      <td>79.0</td>\n",
       "      <td>96.0</td>\n",
       "      <td>11</td>\n",
       "    </tr>\n",
       "    <tr>\n",
       "      <th>1</th>\n",
       "      <td>86</td>\n",
       "      <td>8</td>\n",
       "      <td>30.0</td>\n",
       "      <td>86.0</td>\n",
       "      <td>0.0</td>\n",
       "      <td>29</td>\n",
       "    </tr>\n",
       "    <tr>\n",
       "      <th>2</th>\n",
       "      <td>47</td>\n",
       "      <td>82</td>\n",
       "      <td>47.0</td>\n",
       "      <td>NaN</td>\n",
       "      <td>2.0</td>\n",
       "      <td>19</td>\n",
       "    </tr>\n",
       "    <tr>\n",
       "      <th>3</th>\n",
       "      <td>75</td>\n",
       "      <td>21</td>\n",
       "      <td>74.0</td>\n",
       "      <td>68.0</td>\n",
       "      <td>2.0</td>\n",
       "      <td>24</td>\n",
       "    </tr>\n",
       "    <tr>\n",
       "      <th>4</th>\n",
       "      <td>52</td>\n",
       "      <td>90</td>\n",
       "      <td>46.0</td>\n",
       "      <td>64.0</td>\n",
       "      <td>NaN</td>\n",
       "      <td>48</td>\n",
       "    </tr>\n",
       "    <tr>\n",
       "      <th>5</th>\n",
       "      <td>72</td>\n",
       "      <td>4</td>\n",
       "      <td>NaN</td>\n",
       "      <td>92.0</td>\n",
       "      <td>96.0</td>\n",
       "      <td>13</td>\n",
       "    </tr>\n",
       "    <tr>\n",
       "      <th>6</th>\n",
       "      <td>87</td>\n",
       "      <td>1</td>\n",
       "      <td>2.0</td>\n",
       "      <td>34.0</td>\n",
       "      <td>3.0</td>\n",
       "      <td>65</td>\n",
       "    </tr>\n",
       "    <tr>\n",
       "      <th>7</th>\n",
       "      <td>61</td>\n",
       "      <td>2</td>\n",
       "      <td>81.0</td>\n",
       "      <td>95.0</td>\n",
       "      <td>91.0</td>\n",
       "      <td>2</td>\n",
       "    </tr>\n",
       "  </tbody>\n",
       "</table>\n",
       "</div>"
      ],
      "text/plain": [
       "    0   1     2     3     4   5\n",
       "0   3   9  98.0  79.0  96.0  11\n",
       "1  86   8  30.0  86.0   0.0  29\n",
       "2  47  82  47.0   NaN   2.0  19\n",
       "3  75  21  74.0  68.0   2.0  24\n",
       "4  52  90  46.0  64.0   NaN  48\n",
       "5  72   4   NaN  92.0  96.0  13\n",
       "6  87   1   2.0  34.0   3.0  65\n",
       "7  61   2  81.0  95.0  91.0   2"
      ]
     },
     "execution_count": 6,
     "metadata": {},
     "output_type": "execute_result"
    }
   ],
   "source": [
    "# 伪造一组数据（存在空值)\n",
    "df = DataFrame(data=np.random.randint(0, 100, size=(8, 6)))\n",
    "df.iloc[2, 3] = None\n",
    "df.iloc[4, 4] = np.nan\n",
    "df.iloc[5, 2] = None\n",
    "df"
   ]
  },
  {
   "cell_type": "code",
   "execution_count": 7,
   "id": "51b38406",
   "metadata": {},
   "outputs": [
    {
     "data": {
      "application/vnd.microsoft.datawrangler.viewer.v0+json": {
       "columns": [
        {
         "name": "index",
         "rawType": "int64",
         "type": "integer"
        },
        {
         "name": "0",
         "rawType": "bool",
         "type": "boolean"
        },
        {
         "name": "1",
         "rawType": "bool",
         "type": "boolean"
        },
        {
         "name": "2",
         "rawType": "bool",
         "type": "boolean"
        },
        {
         "name": "3",
         "rawType": "bool",
         "type": "boolean"
        },
        {
         "name": "4",
         "rawType": "bool",
         "type": "boolean"
        },
        {
         "name": "5",
         "rawType": "bool",
         "type": "boolean"
        }
       ],
       "ref": "fa0f325f-245f-4958-a2be-71169a25854e",
       "rows": [
        [
         "0",
         "True",
         "True",
         "True",
         "True",
         "True",
         "True"
        ],
        [
         "1",
         "True",
         "True",
         "True",
         "True",
         "True",
         "True"
        ],
        [
         "2",
         "True",
         "True",
         "True",
         "False",
         "True",
         "True"
        ],
        [
         "3",
         "True",
         "True",
         "True",
         "True",
         "True",
         "True"
        ],
        [
         "4",
         "True",
         "True",
         "True",
         "True",
         "False",
         "True"
        ],
        [
         "5",
         "True",
         "True",
         "False",
         "True",
         "True",
         "True"
        ],
        [
         "6",
         "True",
         "True",
         "True",
         "True",
         "True",
         "True"
        ],
        [
         "7",
         "True",
         "True",
         "True",
         "True",
         "True",
         "True"
        ]
       ],
       "shape": {
        "columns": 6,
        "rows": 8
       }
      },
      "text/html": [
       "<div>\n",
       "<style scoped>\n",
       "    .dataframe tbody tr th:only-of-type {\n",
       "        vertical-align: middle;\n",
       "    }\n",
       "\n",
       "    .dataframe tbody tr th {\n",
       "        vertical-align: top;\n",
       "    }\n",
       "\n",
       "    .dataframe thead th {\n",
       "        text-align: right;\n",
       "    }\n",
       "</style>\n",
       "<table border=\"1\" class=\"dataframe\">\n",
       "  <thead>\n",
       "    <tr style=\"text-align: right;\">\n",
       "      <th></th>\n",
       "      <th>0</th>\n",
       "      <th>1</th>\n",
       "      <th>2</th>\n",
       "      <th>3</th>\n",
       "      <th>4</th>\n",
       "      <th>5</th>\n",
       "    </tr>\n",
       "  </thead>\n",
       "  <tbody>\n",
       "    <tr>\n",
       "      <th>0</th>\n",
       "      <td>True</td>\n",
       "      <td>True</td>\n",
       "      <td>True</td>\n",
       "      <td>True</td>\n",
       "      <td>True</td>\n",
       "      <td>True</td>\n",
       "    </tr>\n",
       "    <tr>\n",
       "      <th>1</th>\n",
       "      <td>True</td>\n",
       "      <td>True</td>\n",
       "      <td>True</td>\n",
       "      <td>True</td>\n",
       "      <td>True</td>\n",
       "      <td>True</td>\n",
       "    </tr>\n",
       "    <tr>\n",
       "      <th>2</th>\n",
       "      <td>True</td>\n",
       "      <td>True</td>\n",
       "      <td>True</td>\n",
       "      <td>False</td>\n",
       "      <td>True</td>\n",
       "      <td>True</td>\n",
       "    </tr>\n",
       "    <tr>\n",
       "      <th>3</th>\n",
       "      <td>True</td>\n",
       "      <td>True</td>\n",
       "      <td>True</td>\n",
       "      <td>True</td>\n",
       "      <td>True</td>\n",
       "      <td>True</td>\n",
       "    </tr>\n",
       "    <tr>\n",
       "      <th>4</th>\n",
       "      <td>True</td>\n",
       "      <td>True</td>\n",
       "      <td>True</td>\n",
       "      <td>True</td>\n",
       "      <td>False</td>\n",
       "      <td>True</td>\n",
       "    </tr>\n",
       "    <tr>\n",
       "      <th>5</th>\n",
       "      <td>True</td>\n",
       "      <td>True</td>\n",
       "      <td>False</td>\n",
       "      <td>True</td>\n",
       "      <td>True</td>\n",
       "      <td>True</td>\n",
       "    </tr>\n",
       "    <tr>\n",
       "      <th>6</th>\n",
       "      <td>True</td>\n",
       "      <td>True</td>\n",
       "      <td>True</td>\n",
       "      <td>True</td>\n",
       "      <td>True</td>\n",
       "      <td>True</td>\n",
       "    </tr>\n",
       "    <tr>\n",
       "      <th>7</th>\n",
       "      <td>True</td>\n",
       "      <td>True</td>\n",
       "      <td>True</td>\n",
       "      <td>True</td>\n",
       "      <td>True</td>\n",
       "      <td>True</td>\n",
       "    </tr>\n",
       "  </tbody>\n",
       "</table>\n",
       "</div>"
      ],
      "text/plain": [
       "      0     1      2      3      4     5\n",
       "0  True  True   True   True   True  True\n",
       "1  True  True   True   True   True  True\n",
       "2  True  True   True  False   True  True\n",
       "3  True  True   True   True   True  True\n",
       "4  True  True   True   True  False  True\n",
       "5  True  True  False   True   True  True\n",
       "6  True  True   True   True   True  True\n",
       "7  True  True   True   True   True  True"
      ]
     },
     "execution_count": 7,
     "metadata": {},
     "output_type": "execute_result"
    }
   ],
   "source": [
    "df.notnull()"
   ]
  },
  {
   "cell_type": "code",
   "execution_count": 8,
   "id": "8025caaa",
   "metadata": {},
   "outputs": [
    {
     "data": {
      "application/vnd.microsoft.datawrangler.viewer.v0+json": {
       "columns": [
        {
         "name": "index",
         "rawType": "int64",
         "type": "integer"
        },
        {
         "name": "0",
         "rawType": "int32",
         "type": "integer"
        },
        {
         "name": "1",
         "rawType": "int32",
         "type": "integer"
        },
        {
         "name": "2",
         "rawType": "float64",
         "type": "float"
        },
        {
         "name": "3",
         "rawType": "float64",
         "type": "float"
        },
        {
         "name": "4",
         "rawType": "float64",
         "type": "float"
        },
        {
         "name": "5",
         "rawType": "int32",
         "type": "integer"
        }
       ],
       "ref": "5d04cd50-1662-4236-968a-06be8cce8759",
       "rows": [
        [
         "0",
         "3",
         "9",
         "98.0",
         "79.0",
         "96.0",
         "11"
        ],
        [
         "1",
         "86",
         "8",
         "30.0",
         "86.0",
         "0.0",
         "29"
        ],
        [
         "3",
         "75",
         "21",
         "74.0",
         "68.0",
         "2.0",
         "24"
        ],
        [
         "6",
         "87",
         "1",
         "2.0",
         "34.0",
         "3.0",
         "65"
        ],
        [
         "7",
         "61",
         "2",
         "81.0",
         "95.0",
         "91.0",
         "2"
        ]
       ],
       "shape": {
        "columns": 6,
        "rows": 5
       }
      },
      "text/html": [
       "<div>\n",
       "<style scoped>\n",
       "    .dataframe tbody tr th:only-of-type {\n",
       "        vertical-align: middle;\n",
       "    }\n",
       "\n",
       "    .dataframe tbody tr th {\n",
       "        vertical-align: top;\n",
       "    }\n",
       "\n",
       "    .dataframe thead th {\n",
       "        text-align: right;\n",
       "    }\n",
       "</style>\n",
       "<table border=\"1\" class=\"dataframe\">\n",
       "  <thead>\n",
       "    <tr style=\"text-align: right;\">\n",
       "      <th></th>\n",
       "      <th>0</th>\n",
       "      <th>1</th>\n",
       "      <th>2</th>\n",
       "      <th>3</th>\n",
       "      <th>4</th>\n",
       "      <th>5</th>\n",
       "    </tr>\n",
       "  </thead>\n",
       "  <tbody>\n",
       "    <tr>\n",
       "      <th>0</th>\n",
       "      <td>3</td>\n",
       "      <td>9</td>\n",
       "      <td>98.0</td>\n",
       "      <td>79.0</td>\n",
       "      <td>96.0</td>\n",
       "      <td>11</td>\n",
       "    </tr>\n",
       "    <tr>\n",
       "      <th>1</th>\n",
       "      <td>86</td>\n",
       "      <td>8</td>\n",
       "      <td>30.0</td>\n",
       "      <td>86.0</td>\n",
       "      <td>0.0</td>\n",
       "      <td>29</td>\n",
       "    </tr>\n",
       "    <tr>\n",
       "      <th>3</th>\n",
       "      <td>75</td>\n",
       "      <td>21</td>\n",
       "      <td>74.0</td>\n",
       "      <td>68.0</td>\n",
       "      <td>2.0</td>\n",
       "      <td>24</td>\n",
       "    </tr>\n",
       "    <tr>\n",
       "      <th>6</th>\n",
       "      <td>87</td>\n",
       "      <td>1</td>\n",
       "      <td>2.0</td>\n",
       "      <td>34.0</td>\n",
       "      <td>3.0</td>\n",
       "      <td>65</td>\n",
       "    </tr>\n",
       "    <tr>\n",
       "      <th>7</th>\n",
       "      <td>61</td>\n",
       "      <td>2</td>\n",
       "      <td>81.0</td>\n",
       "      <td>95.0</td>\n",
       "      <td>91.0</td>\n",
       "      <td>2</td>\n",
       "    </tr>\n",
       "  </tbody>\n",
       "</table>\n",
       "</div>"
      ],
      "text/plain": [
       "    0   1     2     3     4   5\n",
       "0   3   9  98.0  79.0  96.0  11\n",
       "1  86   8  30.0  86.0   0.0  29\n",
       "3  75  21  74.0  68.0   2.0  24\n",
       "6  87   1   2.0  34.0   3.0  65\n",
       "7  61   2  81.0  95.0  91.0   2"
      ]
     },
     "execution_count": 8,
     "metadata": {},
     "output_type": "execute_result"
    }
   ],
   "source": [
    "# any用来检测行或列中是否存在空值\n",
    "# 将上步的bool值作为原数据的行索引\n",
    "drop_index = df.loc[(df.isnull().any(axis=1))].index\n",
    "df.drop(labels=drop_index, axis=0) # 将缺失行删除"
   ]
  },
  {
   "cell_type": "code",
   "execution_count": 9,
   "id": "c4abf17e",
   "metadata": {},
   "outputs": [
    {
     "data": {
      "text/plain": [
       "<bound method DataFrame.all of       0     1      2      3      4     5\n",
       "0  True  True   True   True   True  True\n",
       "1  True  True   True   True   True  True\n",
       "2  True  True   True  False   True  True\n",
       "3  True  True   True   True   True  True\n",
       "4  True  True   True   True  False  True\n",
       "5  True  True  False   True   True  True\n",
       "6  True  True   True   True   True  True\n",
       "7  True  True   True   True   True  True>"
      ]
     },
     "execution_count": 9,
     "metadata": {},
     "output_type": "execute_result"
    }
   ],
   "source": [
    "df.notnull().all"
   ]
  },
  {
   "cell_type": "code",
   "execution_count": null,
   "id": "3e3e5bb5",
   "metadata": {},
   "outputs": [],
   "source": []
  }
 ],
 "metadata": {
  "kernelspec": {
   "display_name": "ml2025",
   "language": "python",
   "name": "python3"
  },
  "language_info": {
   "codemirror_mode": {
    "name": "ipython",
    "version": 3
   },
   "file_extension": ".py",
   "mimetype": "text/x-python",
   "name": "python",
   "nbconvert_exporter": "python",
   "pygments_lexer": "ipython3",
   "version": "3.10.14"
  }
 },
 "nbformat": 4,
 "nbformat_minor": 5
}
