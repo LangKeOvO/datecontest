{
 "cells": [
  {
   "cell_type": "markdown",
   "id": "1e1c1efe",
   "metadata": {},
   "source": [
    "#### 处理丢失数据\n",
    "- 有两种丢失数据：\n",
    "  - None\n",
    "  - np.nan(NaN)"
   ]
  },
  {
   "cell_type": "code",
   "execution_count": 19,
   "id": "91f6cc81",
   "metadata": {},
   "outputs": [
    {
     "data": {
      "text/plain": [
       "NoneType"
      ]
     },
     "execution_count": 19,
     "metadata": {},
     "output_type": "execute_result"
    }
   ],
   "source": [
    "import numpy as np\n",
    "type(None)"
   ]
  },
  {
   "cell_type": "code",
   "execution_count": 20,
   "id": "f4a70743",
   "metadata": {},
   "outputs": [
    {
     "data": {
      "text/plain": [
       "float"
      ]
     },
     "execution_count": 20,
     "metadata": {},
     "output_type": "execute_result"
    }
   ],
   "source": [
    "type(np.nan)"
   ]
  },
  {
   "cell_type": "markdown",
   "id": "0d71f3f6",
   "metadata": {},
   "source": [
    "- 为什么在数据分析中需要用到的是浮点类型的空而不是对象类型\n",
    "  - 数据分析中会常常使用某些形式的运算来处理原始数据，如果原始数据中的空值为NaN的形式，则不会干扰或者中断运算\n",
    "  - NaN可以参与运算的\n",
    "  - None是不可以参与运算的\n",
    "\n",
    "- 在pandas中如果遇到了None形式的空值，则pandas会将其强转成NaN形式"
   ]
  },
  {
   "cell_type": "code",
   "execution_count": 21,
   "id": "d79ffa66",
   "metadata": {},
   "outputs": [
    {
     "data": {
      "text/plain": [
       "nan"
      ]
     },
     "execution_count": 21,
     "metadata": {},
     "output_type": "execute_result"
    }
   ],
   "source": [
    "np.nan + 1"
   ]
  },
  {
   "cell_type": "markdown",
   "id": "c5d14093",
   "metadata": {},
   "source": [
    "#### pandas处理空值的操作\n",
    "- isnull\n",
    "- notnull\n",
    "- any\n",
    "- all\n",
    "- dropna\n",
    "- fillna"
   ]
  },
  {
   "cell_type": "code",
   "execution_count": 22,
   "id": "f2a88e58",
   "metadata": {},
   "outputs": [],
   "source": [
    "import pandas as pd\n",
    "from pandas import DataFrame, Series"
   ]
  },
  {
   "cell_type": "code",
   "execution_count": 23,
   "id": "333b4a8e",
   "metadata": {},
   "outputs": [
    {
     "data": {
      "application/vnd.microsoft.datawrangler.viewer.v0+json": {
       "columns": [
        {
         "name": "index",
         "rawType": "int64",
         "type": "integer"
        },
        {
         "name": "0",
         "rawType": "int32",
         "type": "integer"
        },
        {
         "name": "1",
         "rawType": "int32",
         "type": "integer"
        },
        {
         "name": "2",
         "rawType": "float64",
         "type": "float"
        },
        {
         "name": "3",
         "rawType": "float64",
         "type": "float"
        },
        {
         "name": "4",
         "rawType": "float64",
         "type": "float"
        },
        {
         "name": "5",
         "rawType": "int32",
         "type": "integer"
        }
       ],
       "ref": "d2ce539b-5dd6-4d6b-a03a-b4af92856181",
       "rows": [
        [
         "0",
         "16",
         "71",
         "17.0",
         "87.0",
         "68.0",
         "2"
        ],
        [
         "1",
         "12",
         "80",
         "50.0",
         "67.0",
         "16.0",
         "91"
        ],
        [
         "2",
         "59",
         "85",
         "13.0",
         null,
         "62.0",
         "98"
        ],
        [
         "3",
         "71",
         "29",
         "55.0",
         "25.0",
         "36.0",
         "47"
        ],
        [
         "4",
         "53",
         "27",
         "67.0",
         "17.0",
         null,
         "25"
        ],
        [
         "5",
         "18",
         "45",
         null,
         "69.0",
         "77.0",
         "23"
        ],
        [
         "6",
         "27",
         "51",
         "12.0",
         "26.0",
         "77.0",
         "68"
        ],
        [
         "7",
         "74",
         "78",
         "94.0",
         "63.0",
         "25.0",
         "63"
        ]
       ],
       "shape": {
        "columns": 6,
        "rows": 8
       }
      },
      "text/html": [
       "<div>\n",
       "<style scoped>\n",
       "    .dataframe tbody tr th:only-of-type {\n",
       "        vertical-align: middle;\n",
       "    }\n",
       "\n",
       "    .dataframe tbody tr th {\n",
       "        vertical-align: top;\n",
       "    }\n",
       "\n",
       "    .dataframe thead th {\n",
       "        text-align: right;\n",
       "    }\n",
       "</style>\n",
       "<table border=\"1\" class=\"dataframe\">\n",
       "  <thead>\n",
       "    <tr style=\"text-align: right;\">\n",
       "      <th></th>\n",
       "      <th>0</th>\n",
       "      <th>1</th>\n",
       "      <th>2</th>\n",
       "      <th>3</th>\n",
       "      <th>4</th>\n",
       "      <th>5</th>\n",
       "    </tr>\n",
       "  </thead>\n",
       "  <tbody>\n",
       "    <tr>\n",
       "      <th>0</th>\n",
       "      <td>16</td>\n",
       "      <td>71</td>\n",
       "      <td>17.0</td>\n",
       "      <td>87.0</td>\n",
       "      <td>68.0</td>\n",
       "      <td>2</td>\n",
       "    </tr>\n",
       "    <tr>\n",
       "      <th>1</th>\n",
       "      <td>12</td>\n",
       "      <td>80</td>\n",
       "      <td>50.0</td>\n",
       "      <td>67.0</td>\n",
       "      <td>16.0</td>\n",
       "      <td>91</td>\n",
       "    </tr>\n",
       "    <tr>\n",
       "      <th>2</th>\n",
       "      <td>59</td>\n",
       "      <td>85</td>\n",
       "      <td>13.0</td>\n",
       "      <td>NaN</td>\n",
       "      <td>62.0</td>\n",
       "      <td>98</td>\n",
       "    </tr>\n",
       "    <tr>\n",
       "      <th>3</th>\n",
       "      <td>71</td>\n",
       "      <td>29</td>\n",
       "      <td>55.0</td>\n",
       "      <td>25.0</td>\n",
       "      <td>36.0</td>\n",
       "      <td>47</td>\n",
       "    </tr>\n",
       "    <tr>\n",
       "      <th>4</th>\n",
       "      <td>53</td>\n",
       "      <td>27</td>\n",
       "      <td>67.0</td>\n",
       "      <td>17.0</td>\n",
       "      <td>NaN</td>\n",
       "      <td>25</td>\n",
       "    </tr>\n",
       "    <tr>\n",
       "      <th>5</th>\n",
       "      <td>18</td>\n",
       "      <td>45</td>\n",
       "      <td>NaN</td>\n",
       "      <td>69.0</td>\n",
       "      <td>77.0</td>\n",
       "      <td>23</td>\n",
       "    </tr>\n",
       "    <tr>\n",
       "      <th>6</th>\n",
       "      <td>27</td>\n",
       "      <td>51</td>\n",
       "      <td>12.0</td>\n",
       "      <td>26.0</td>\n",
       "      <td>77.0</td>\n",
       "      <td>68</td>\n",
       "    </tr>\n",
       "    <tr>\n",
       "      <th>7</th>\n",
       "      <td>74</td>\n",
       "      <td>78</td>\n",
       "      <td>94.0</td>\n",
       "      <td>63.0</td>\n",
       "      <td>25.0</td>\n",
       "      <td>63</td>\n",
       "    </tr>\n",
       "  </tbody>\n",
       "</table>\n",
       "</div>"
      ],
      "text/plain": [
       "    0   1     2     3     4   5\n",
       "0  16  71  17.0  87.0  68.0   2\n",
       "1  12  80  50.0  67.0  16.0  91\n",
       "2  59  85  13.0   NaN  62.0  98\n",
       "3  71  29  55.0  25.0  36.0  47\n",
       "4  53  27  67.0  17.0   NaN  25\n",
       "5  18  45   NaN  69.0  77.0  23\n",
       "6  27  51  12.0  26.0  77.0  68\n",
       "7  74  78  94.0  63.0  25.0  63"
      ]
     },
     "execution_count": 23,
     "metadata": {},
     "output_type": "execute_result"
    }
   ],
   "source": [
    "# 伪造一组数据（存在空值)\n",
    "df = DataFrame(data=np.random.randint(0, 100, size=(8, 6)))\n",
    "df.iloc[2, 3] = None\n",
    "df.iloc[4, 4] = np.nan\n",
    "df.iloc[5, 2] = None\n",
    "df"
   ]
  },
  {
   "cell_type": "code",
   "execution_count": 24,
   "id": "51b38406",
   "metadata": {},
   "outputs": [
    {
     "data": {
      "application/vnd.microsoft.datawrangler.viewer.v0+json": {
       "columns": [
        {
         "name": "index",
         "rawType": "int64",
         "type": "integer"
        },
        {
         "name": "0",
         "rawType": "bool",
         "type": "boolean"
        },
        {
         "name": "1",
         "rawType": "bool",
         "type": "boolean"
        },
        {
         "name": "2",
         "rawType": "bool",
         "type": "boolean"
        },
        {
         "name": "3",
         "rawType": "bool",
         "type": "boolean"
        },
        {
         "name": "4",
         "rawType": "bool",
         "type": "boolean"
        },
        {
         "name": "5",
         "rawType": "bool",
         "type": "boolean"
        }
       ],
       "ref": "38e472a0-5caf-44e0-a7a2-182a32852526",
       "rows": [
        [
         "0",
         "True",
         "True",
         "True",
         "True",
         "True",
         "True"
        ],
        [
         "1",
         "True",
         "True",
         "True",
         "True",
         "True",
         "True"
        ],
        [
         "2",
         "True",
         "True",
         "True",
         "False",
         "True",
         "True"
        ],
        [
         "3",
         "True",
         "True",
         "True",
         "True",
         "True",
         "True"
        ],
        [
         "4",
         "True",
         "True",
         "True",
         "True",
         "False",
         "True"
        ],
        [
         "5",
         "True",
         "True",
         "False",
         "True",
         "True",
         "True"
        ],
        [
         "6",
         "True",
         "True",
         "True",
         "True",
         "True",
         "True"
        ],
        [
         "7",
         "True",
         "True",
         "True",
         "True",
         "True",
         "True"
        ]
       ],
       "shape": {
        "columns": 6,
        "rows": 8
       }
      },
      "text/html": [
       "<div>\n",
       "<style scoped>\n",
       "    .dataframe tbody tr th:only-of-type {\n",
       "        vertical-align: middle;\n",
       "    }\n",
       "\n",
       "    .dataframe tbody tr th {\n",
       "        vertical-align: top;\n",
       "    }\n",
       "\n",
       "    .dataframe thead th {\n",
       "        text-align: right;\n",
       "    }\n",
       "</style>\n",
       "<table border=\"1\" class=\"dataframe\">\n",
       "  <thead>\n",
       "    <tr style=\"text-align: right;\">\n",
       "      <th></th>\n",
       "      <th>0</th>\n",
       "      <th>1</th>\n",
       "      <th>2</th>\n",
       "      <th>3</th>\n",
       "      <th>4</th>\n",
       "      <th>5</th>\n",
       "    </tr>\n",
       "  </thead>\n",
       "  <tbody>\n",
       "    <tr>\n",
       "      <th>0</th>\n",
       "      <td>True</td>\n",
       "      <td>True</td>\n",
       "      <td>True</td>\n",
       "      <td>True</td>\n",
       "      <td>True</td>\n",
       "      <td>True</td>\n",
       "    </tr>\n",
       "    <tr>\n",
       "      <th>1</th>\n",
       "      <td>True</td>\n",
       "      <td>True</td>\n",
       "      <td>True</td>\n",
       "      <td>True</td>\n",
       "      <td>True</td>\n",
       "      <td>True</td>\n",
       "    </tr>\n",
       "    <tr>\n",
       "      <th>2</th>\n",
       "      <td>True</td>\n",
       "      <td>True</td>\n",
       "      <td>True</td>\n",
       "      <td>False</td>\n",
       "      <td>True</td>\n",
       "      <td>True</td>\n",
       "    </tr>\n",
       "    <tr>\n",
       "      <th>3</th>\n",
       "      <td>True</td>\n",
       "      <td>True</td>\n",
       "      <td>True</td>\n",
       "      <td>True</td>\n",
       "      <td>True</td>\n",
       "      <td>True</td>\n",
       "    </tr>\n",
       "    <tr>\n",
       "      <th>4</th>\n",
       "      <td>True</td>\n",
       "      <td>True</td>\n",
       "      <td>True</td>\n",
       "      <td>True</td>\n",
       "      <td>False</td>\n",
       "      <td>True</td>\n",
       "    </tr>\n",
       "    <tr>\n",
       "      <th>5</th>\n",
       "      <td>True</td>\n",
       "      <td>True</td>\n",
       "      <td>False</td>\n",
       "      <td>True</td>\n",
       "      <td>True</td>\n",
       "      <td>True</td>\n",
       "    </tr>\n",
       "    <tr>\n",
       "      <th>6</th>\n",
       "      <td>True</td>\n",
       "      <td>True</td>\n",
       "      <td>True</td>\n",
       "      <td>True</td>\n",
       "      <td>True</td>\n",
       "      <td>True</td>\n",
       "    </tr>\n",
       "    <tr>\n",
       "      <th>7</th>\n",
       "      <td>True</td>\n",
       "      <td>True</td>\n",
       "      <td>True</td>\n",
       "      <td>True</td>\n",
       "      <td>True</td>\n",
       "      <td>True</td>\n",
       "    </tr>\n",
       "  </tbody>\n",
       "</table>\n",
       "</div>"
      ],
      "text/plain": [
       "      0     1      2      3      4     5\n",
       "0  True  True   True   True   True  True\n",
       "1  True  True   True   True   True  True\n",
       "2  True  True   True  False   True  True\n",
       "3  True  True   True   True   True  True\n",
       "4  True  True   True   True  False  True\n",
       "5  True  True  False   True   True  True\n",
       "6  True  True   True   True   True  True\n",
       "7  True  True   True   True   True  True"
      ]
     },
     "execution_count": 24,
     "metadata": {},
     "output_type": "execute_result"
    }
   ],
   "source": [
    "df.notnull()"
   ]
  },
  {
   "cell_type": "code",
   "execution_count": 25,
   "id": "8025caaa",
   "metadata": {},
   "outputs": [
    {
     "data": {
      "application/vnd.microsoft.datawrangler.viewer.v0+json": {
       "columns": [
        {
         "name": "index",
         "rawType": "int64",
         "type": "integer"
        },
        {
         "name": "0",
         "rawType": "int32",
         "type": "integer"
        },
        {
         "name": "1",
         "rawType": "int32",
         "type": "integer"
        },
        {
         "name": "2",
         "rawType": "float64",
         "type": "float"
        },
        {
         "name": "3",
         "rawType": "float64",
         "type": "float"
        },
        {
         "name": "4",
         "rawType": "float64",
         "type": "float"
        },
        {
         "name": "5",
         "rawType": "int32",
         "type": "integer"
        }
       ],
       "ref": "c6416ea8-24eb-470e-8347-f8fc15894db2",
       "rows": [
        [
         "0",
         "16",
         "71",
         "17.0",
         "87.0",
         "68.0",
         "2"
        ],
        [
         "1",
         "12",
         "80",
         "50.0",
         "67.0",
         "16.0",
         "91"
        ],
        [
         "3",
         "71",
         "29",
         "55.0",
         "25.0",
         "36.0",
         "47"
        ],
        [
         "6",
         "27",
         "51",
         "12.0",
         "26.0",
         "77.0",
         "68"
        ],
        [
         "7",
         "74",
         "78",
         "94.0",
         "63.0",
         "25.0",
         "63"
        ]
       ],
       "shape": {
        "columns": 6,
        "rows": 5
       }
      },
      "text/html": [
       "<div>\n",
       "<style scoped>\n",
       "    .dataframe tbody tr th:only-of-type {\n",
       "        vertical-align: middle;\n",
       "    }\n",
       "\n",
       "    .dataframe tbody tr th {\n",
       "        vertical-align: top;\n",
       "    }\n",
       "\n",
       "    .dataframe thead th {\n",
       "        text-align: right;\n",
       "    }\n",
       "</style>\n",
       "<table border=\"1\" class=\"dataframe\">\n",
       "  <thead>\n",
       "    <tr style=\"text-align: right;\">\n",
       "      <th></th>\n",
       "      <th>0</th>\n",
       "      <th>1</th>\n",
       "      <th>2</th>\n",
       "      <th>3</th>\n",
       "      <th>4</th>\n",
       "      <th>5</th>\n",
       "    </tr>\n",
       "  </thead>\n",
       "  <tbody>\n",
       "    <tr>\n",
       "      <th>0</th>\n",
       "      <td>16</td>\n",
       "      <td>71</td>\n",
       "      <td>17.0</td>\n",
       "      <td>87.0</td>\n",
       "      <td>68.0</td>\n",
       "      <td>2</td>\n",
       "    </tr>\n",
       "    <tr>\n",
       "      <th>1</th>\n",
       "      <td>12</td>\n",
       "      <td>80</td>\n",
       "      <td>50.0</td>\n",
       "      <td>67.0</td>\n",
       "      <td>16.0</td>\n",
       "      <td>91</td>\n",
       "    </tr>\n",
       "    <tr>\n",
       "      <th>3</th>\n",
       "      <td>71</td>\n",
       "      <td>29</td>\n",
       "      <td>55.0</td>\n",
       "      <td>25.0</td>\n",
       "      <td>36.0</td>\n",
       "      <td>47</td>\n",
       "    </tr>\n",
       "    <tr>\n",
       "      <th>6</th>\n",
       "      <td>27</td>\n",
       "      <td>51</td>\n",
       "      <td>12.0</td>\n",
       "      <td>26.0</td>\n",
       "      <td>77.0</td>\n",
       "      <td>68</td>\n",
       "    </tr>\n",
       "    <tr>\n",
       "      <th>7</th>\n",
       "      <td>74</td>\n",
       "      <td>78</td>\n",
       "      <td>94.0</td>\n",
       "      <td>63.0</td>\n",
       "      <td>25.0</td>\n",
       "      <td>63</td>\n",
       "    </tr>\n",
       "  </tbody>\n",
       "</table>\n",
       "</div>"
      ],
      "text/plain": [
       "    0   1     2     3     4   5\n",
       "0  16  71  17.0  87.0  68.0   2\n",
       "1  12  80  50.0  67.0  16.0  91\n",
       "3  71  29  55.0  25.0  36.0  47\n",
       "6  27  51  12.0  26.0  77.0  68\n",
       "7  74  78  94.0  63.0  25.0  63"
      ]
     },
     "execution_count": 25,
     "metadata": {},
     "output_type": "execute_result"
    }
   ],
   "source": [
    "# any用来检测行或列中是否存在空值\n",
    "# 将上步的bool值作为原数据的行索引\n",
    "drop_index = df.loc[(df.isnull().any(axis=1))].index\n",
    "df.drop(labels=drop_index, axis=0) # 将缺失行删除"
   ]
  },
  {
   "cell_type": "code",
   "execution_count": 26,
   "id": "c4abf17e",
   "metadata": {},
   "outputs": [
    {
     "data": {
      "application/vnd.microsoft.datawrangler.viewer.v0+json": {
       "columns": [
        {
         "name": "index",
         "rawType": "int64",
         "type": "integer"
        },
        {
         "name": "0",
         "rawType": "int32",
         "type": "integer"
        },
        {
         "name": "1",
         "rawType": "int32",
         "type": "integer"
        },
        {
         "name": "2",
         "rawType": "float64",
         "type": "float"
        },
        {
         "name": "3",
         "rawType": "float64",
         "type": "float"
        },
        {
         "name": "4",
         "rawType": "float64",
         "type": "float"
        },
        {
         "name": "5",
         "rawType": "int32",
         "type": "integer"
        }
       ],
       "ref": "ddb1471a-a2ae-4d2b-bbc8-3a6e75346df0",
       "rows": [
        [
         "0",
         "16",
         "71",
         "17.0",
         "87.0",
         "68.0",
         "2"
        ],
        [
         "1",
         "12",
         "80",
         "50.0",
         "67.0",
         "16.0",
         "91"
        ],
        [
         "3",
         "71",
         "29",
         "55.0",
         "25.0",
         "36.0",
         "47"
        ],
        [
         "6",
         "27",
         "51",
         "12.0",
         "26.0",
         "77.0",
         "68"
        ],
        [
         "7",
         "74",
         "78",
         "94.0",
         "63.0",
         "25.0",
         "63"
        ]
       ],
       "shape": {
        "columns": 6,
        "rows": 5
       }
      },
      "text/html": [
       "<div>\n",
       "<style scoped>\n",
       "    .dataframe tbody tr th:only-of-type {\n",
       "        vertical-align: middle;\n",
       "    }\n",
       "\n",
       "    .dataframe tbody tr th {\n",
       "        vertical-align: top;\n",
       "    }\n",
       "\n",
       "    .dataframe thead th {\n",
       "        text-align: right;\n",
       "    }\n",
       "</style>\n",
       "<table border=\"1\" class=\"dataframe\">\n",
       "  <thead>\n",
       "    <tr style=\"text-align: right;\">\n",
       "      <th></th>\n",
       "      <th>0</th>\n",
       "      <th>1</th>\n",
       "      <th>2</th>\n",
       "      <th>3</th>\n",
       "      <th>4</th>\n",
       "      <th>5</th>\n",
       "    </tr>\n",
       "  </thead>\n",
       "  <tbody>\n",
       "    <tr>\n",
       "      <th>0</th>\n",
       "      <td>16</td>\n",
       "      <td>71</td>\n",
       "      <td>17.0</td>\n",
       "      <td>87.0</td>\n",
       "      <td>68.0</td>\n",
       "      <td>2</td>\n",
       "    </tr>\n",
       "    <tr>\n",
       "      <th>1</th>\n",
       "      <td>12</td>\n",
       "      <td>80</td>\n",
       "      <td>50.0</td>\n",
       "      <td>67.0</td>\n",
       "      <td>16.0</td>\n",
       "      <td>91</td>\n",
       "    </tr>\n",
       "    <tr>\n",
       "      <th>3</th>\n",
       "      <td>71</td>\n",
       "      <td>29</td>\n",
       "      <td>55.0</td>\n",
       "      <td>25.0</td>\n",
       "      <td>36.0</td>\n",
       "      <td>47</td>\n",
       "    </tr>\n",
       "    <tr>\n",
       "      <th>6</th>\n",
       "      <td>27</td>\n",
       "      <td>51</td>\n",
       "      <td>12.0</td>\n",
       "      <td>26.0</td>\n",
       "      <td>77.0</td>\n",
       "      <td>68</td>\n",
       "    </tr>\n",
       "    <tr>\n",
       "      <th>7</th>\n",
       "      <td>74</td>\n",
       "      <td>78</td>\n",
       "      <td>94.0</td>\n",
       "      <td>63.0</td>\n",
       "      <td>25.0</td>\n",
       "      <td>63</td>\n",
       "    </tr>\n",
       "  </tbody>\n",
       "</table>\n",
       "</div>"
      ],
      "text/plain": [
       "    0   1     2     3     4   5\n",
       "0  16  71  17.0  87.0  68.0   2\n",
       "1  12  80  50.0  67.0  16.0  91\n",
       "3  71  29  55.0  25.0  36.0  47\n",
       "6  27  51  12.0  26.0  77.0  68\n",
       "7  74  78  94.0  63.0  25.0  63"
      ]
     },
     "execution_count": 26,
     "metadata": {},
     "output_type": "execute_result"
    }
   ],
   "source": [
    "df.notnull().all(axis=1)\n",
    "df.loc[df.notnull().all(axis=1)]"
   ]
  },
  {
   "cell_type": "markdown",
   "id": "3e3e5bb5",
   "metadata": {},
   "source": [
    "- 规律\n",
    "  - isnull--any\n",
    "  - notnull--all"
   ]
  },
  {
   "cell_type": "markdown",
   "id": "41ebc8f9",
   "metadata": {},
   "source": [
    "- dropna:可以直接将缺失的行或者列进行删除"
   ]
  },
  {
   "cell_type": "code",
   "execution_count": 27,
   "id": "43758ffa",
   "metadata": {},
   "outputs": [
    {
     "data": {
      "application/vnd.microsoft.datawrangler.viewer.v0+json": {
       "columns": [
        {
         "name": "index",
         "rawType": "int64",
         "type": "integer"
        },
        {
         "name": "0",
         "rawType": "int32",
         "type": "integer"
        },
        {
         "name": "1",
         "rawType": "int32",
         "type": "integer"
        },
        {
         "name": "2",
         "rawType": "float64",
         "type": "float"
        },
        {
         "name": "3",
         "rawType": "float64",
         "type": "float"
        },
        {
         "name": "4",
         "rawType": "float64",
         "type": "float"
        },
        {
         "name": "5",
         "rawType": "int32",
         "type": "integer"
        }
       ],
       "ref": "c0af824d-5a47-47fc-82fc-6164bd8b4855",
       "rows": [
        [
         "0",
         "16",
         "71",
         "17.0",
         "87.0",
         "68.0",
         "2"
        ],
        [
         "1",
         "12",
         "80",
         "50.0",
         "67.0",
         "16.0",
         "91"
        ],
        [
         "3",
         "71",
         "29",
         "55.0",
         "25.0",
         "36.0",
         "47"
        ],
        [
         "6",
         "27",
         "51",
         "12.0",
         "26.0",
         "77.0",
         "68"
        ],
        [
         "7",
         "74",
         "78",
         "94.0",
         "63.0",
         "25.0",
         "63"
        ]
       ],
       "shape": {
        "columns": 6,
        "rows": 5
       }
      },
      "text/html": [
       "<div>\n",
       "<style scoped>\n",
       "    .dataframe tbody tr th:only-of-type {\n",
       "        vertical-align: middle;\n",
       "    }\n",
       "\n",
       "    .dataframe tbody tr th {\n",
       "        vertical-align: top;\n",
       "    }\n",
       "\n",
       "    .dataframe thead th {\n",
       "        text-align: right;\n",
       "    }\n",
       "</style>\n",
       "<table border=\"1\" class=\"dataframe\">\n",
       "  <thead>\n",
       "    <tr style=\"text-align: right;\">\n",
       "      <th></th>\n",
       "      <th>0</th>\n",
       "      <th>1</th>\n",
       "      <th>2</th>\n",
       "      <th>3</th>\n",
       "      <th>4</th>\n",
       "      <th>5</th>\n",
       "    </tr>\n",
       "  </thead>\n",
       "  <tbody>\n",
       "    <tr>\n",
       "      <th>0</th>\n",
       "      <td>16</td>\n",
       "      <td>71</td>\n",
       "      <td>17.0</td>\n",
       "      <td>87.0</td>\n",
       "      <td>68.0</td>\n",
       "      <td>2</td>\n",
       "    </tr>\n",
       "    <tr>\n",
       "      <th>1</th>\n",
       "      <td>12</td>\n",
       "      <td>80</td>\n",
       "      <td>50.0</td>\n",
       "      <td>67.0</td>\n",
       "      <td>16.0</td>\n",
       "      <td>91</td>\n",
       "    </tr>\n",
       "    <tr>\n",
       "      <th>3</th>\n",
       "      <td>71</td>\n",
       "      <td>29</td>\n",
       "      <td>55.0</td>\n",
       "      <td>25.0</td>\n",
       "      <td>36.0</td>\n",
       "      <td>47</td>\n",
       "    </tr>\n",
       "    <tr>\n",
       "      <th>6</th>\n",
       "      <td>27</td>\n",
       "      <td>51</td>\n",
       "      <td>12.0</td>\n",
       "      <td>26.0</td>\n",
       "      <td>77.0</td>\n",
       "      <td>68</td>\n",
       "    </tr>\n",
       "    <tr>\n",
       "      <th>7</th>\n",
       "      <td>74</td>\n",
       "      <td>78</td>\n",
       "      <td>94.0</td>\n",
       "      <td>63.0</td>\n",
       "      <td>25.0</td>\n",
       "      <td>63</td>\n",
       "    </tr>\n",
       "  </tbody>\n",
       "</table>\n",
       "</div>"
      ],
      "text/plain": [
       "    0   1     2     3     4   5\n",
       "0  16  71  17.0  87.0  68.0   2\n",
       "1  12  80  50.0  67.0  16.0  91\n",
       "3  71  29  55.0  25.0  36.0  47\n",
       "6  27  51  12.0  26.0  77.0  68\n",
       "7  74  78  94.0  63.0  25.0  63"
      ]
     },
     "execution_count": 27,
     "metadata": {},
     "output_type": "execute_result"
    }
   ],
   "source": [
    "df.dropna(axis=0)"
   ]
  },
  {
   "cell_type": "code",
   "execution_count": 28,
   "id": "642170d0",
   "metadata": {},
   "outputs": [
    {
     "data": {
      "application/vnd.microsoft.datawrangler.viewer.v0+json": {
       "columns": [
        {
         "name": "index",
         "rawType": "int64",
         "type": "integer"
        },
        {
         "name": "0",
         "rawType": "int32",
         "type": "integer"
        },
        {
         "name": "1",
         "rawType": "int32",
         "type": "integer"
        },
        {
         "name": "2",
         "rawType": "float64",
         "type": "float"
        },
        {
         "name": "3",
         "rawType": "float64",
         "type": "float"
        },
        {
         "name": "4",
         "rawType": "float64",
         "type": "float"
        },
        {
         "name": "5",
         "rawType": "int32",
         "type": "integer"
        }
       ],
       "ref": "aafa5c8d-b0a9-4d5b-8877-b9f654004d5e",
       "rows": [
        [
         "0",
         "16",
         "71",
         "17.0",
         "87.0",
         "68.0",
         "2"
        ],
        [
         "1",
         "12",
         "80",
         "50.0",
         "67.0",
         "16.0",
         "91"
        ],
        [
         "2",
         "59",
         "85",
         "13.0",
         "25.0",
         "62.0",
         "98"
        ],
        [
         "3",
         "71",
         "29",
         "55.0",
         "25.0",
         "36.0",
         "47"
        ],
        [
         "4",
         "53",
         "27",
         "67.0",
         "17.0",
         "77.0",
         "25"
        ],
        [
         "5",
         "18",
         "45",
         "12.0",
         "69.0",
         "77.0",
         "23"
        ],
        [
         "6",
         "27",
         "51",
         "12.0",
         "26.0",
         "77.0",
         "68"
        ],
        [
         "7",
         "74",
         "78",
         "94.0",
         "63.0",
         "25.0",
         "63"
        ]
       ],
       "shape": {
        "columns": 6,
        "rows": 8
       }
      },
      "text/html": [
       "<div>\n",
       "<style scoped>\n",
       "    .dataframe tbody tr th:only-of-type {\n",
       "        vertical-align: middle;\n",
       "    }\n",
       "\n",
       "    .dataframe tbody tr th {\n",
       "        vertical-align: top;\n",
       "    }\n",
       "\n",
       "    .dataframe thead th {\n",
       "        text-align: right;\n",
       "    }\n",
       "</style>\n",
       "<table border=\"1\" class=\"dataframe\">\n",
       "  <thead>\n",
       "    <tr style=\"text-align: right;\">\n",
       "      <th></th>\n",
       "      <th>0</th>\n",
       "      <th>1</th>\n",
       "      <th>2</th>\n",
       "      <th>3</th>\n",
       "      <th>4</th>\n",
       "      <th>5</th>\n",
       "    </tr>\n",
       "  </thead>\n",
       "  <tbody>\n",
       "    <tr>\n",
       "      <th>0</th>\n",
       "      <td>16</td>\n",
       "      <td>71</td>\n",
       "      <td>17.0</td>\n",
       "      <td>87.0</td>\n",
       "      <td>68.0</td>\n",
       "      <td>2</td>\n",
       "    </tr>\n",
       "    <tr>\n",
       "      <th>1</th>\n",
       "      <td>12</td>\n",
       "      <td>80</td>\n",
       "      <td>50.0</td>\n",
       "      <td>67.0</td>\n",
       "      <td>16.0</td>\n",
       "      <td>91</td>\n",
       "    </tr>\n",
       "    <tr>\n",
       "      <th>2</th>\n",
       "      <td>59</td>\n",
       "      <td>85</td>\n",
       "      <td>13.0</td>\n",
       "      <td>25.0</td>\n",
       "      <td>62.0</td>\n",
       "      <td>98</td>\n",
       "    </tr>\n",
       "    <tr>\n",
       "      <th>3</th>\n",
       "      <td>71</td>\n",
       "      <td>29</td>\n",
       "      <td>55.0</td>\n",
       "      <td>25.0</td>\n",
       "      <td>36.0</td>\n",
       "      <td>47</td>\n",
       "    </tr>\n",
       "    <tr>\n",
       "      <th>4</th>\n",
       "      <td>53</td>\n",
       "      <td>27</td>\n",
       "      <td>67.0</td>\n",
       "      <td>17.0</td>\n",
       "      <td>77.0</td>\n",
       "      <td>25</td>\n",
       "    </tr>\n",
       "    <tr>\n",
       "      <th>5</th>\n",
       "      <td>18</td>\n",
       "      <td>45</td>\n",
       "      <td>12.0</td>\n",
       "      <td>69.0</td>\n",
       "      <td>77.0</td>\n",
       "      <td>23</td>\n",
       "    </tr>\n",
       "    <tr>\n",
       "      <th>6</th>\n",
       "      <td>27</td>\n",
       "      <td>51</td>\n",
       "      <td>12.0</td>\n",
       "      <td>26.0</td>\n",
       "      <td>77.0</td>\n",
       "      <td>68</td>\n",
       "    </tr>\n",
       "    <tr>\n",
       "      <th>7</th>\n",
       "      <td>74</td>\n",
       "      <td>78</td>\n",
       "      <td>94.0</td>\n",
       "      <td>63.0</td>\n",
       "      <td>25.0</td>\n",
       "      <td>63</td>\n",
       "    </tr>\n",
       "  </tbody>\n",
       "</table>\n",
       "</div>"
      ],
      "text/plain": [
       "    0   1     2     3     4   5\n",
       "0  16  71  17.0  87.0  68.0   2\n",
       "1  12  80  50.0  67.0  16.0  91\n",
       "2  59  85  13.0  25.0  62.0  98\n",
       "3  71  29  55.0  25.0  36.0  47\n",
       "4  53  27  67.0  17.0  77.0  25\n",
       "5  18  45  12.0  69.0  77.0  23\n",
       "6  27  51  12.0  26.0  77.0  68\n",
       "7  74  78  94.0  63.0  25.0  63"
      ]
     },
     "execution_count": 28,
     "metadata": {},
     "output_type": "execute_result"
    }
   ],
   "source": [
    "df.bfill(axis=0)"
   ]
  },
  {
   "cell_type": "code",
   "execution_count": 31,
   "id": "38b5f8a8",
   "metadata": {},
   "outputs": [
    {
     "data": {
      "application/vnd.microsoft.datawrangler.viewer.v0+json": {
       "columns": [
        {
         "name": "index",
         "rawType": "int64",
         "type": "integer"
        },
        {
         "name": "0",
         "rawType": "int32",
         "type": "integer"
        },
        {
         "name": "1",
         "rawType": "int32",
         "type": "integer"
        },
        {
         "name": "2",
         "rawType": "int32",
         "type": "integer"
        },
        {
         "name": "3",
         "rawType": "int32",
         "type": "integer"
        }
       ],
       "ref": "99dd9a3c-172e-406a-9076-9e66e4caa0f8",
       "rows": [
        [
         "0",
         "26",
         "62",
         "9",
         "50"
        ],
        [
         "1",
         "36",
         "25",
         "8",
         "49"
        ],
        [
         "2",
         "0",
         "0",
         "0",
         "0"
        ],
        [
         "3",
         "83",
         "16",
         "95",
         "96"
        ],
        [
         "4",
         "0",
         "0",
         "0",
         "0"
        ],
        [
         "5",
         "0",
         "0",
         "0",
         "0"
        ],
        [
         "6",
         "50",
         "11",
         "40",
         "50"
        ],
        [
         "7",
         "89",
         "63",
         "95",
         "99"
        ]
       ],
       "shape": {
        "columns": 4,
        "rows": 8
       }
      },
      "text/html": [
       "<div>\n",
       "<style scoped>\n",
       "    .dataframe tbody tr th:only-of-type {\n",
       "        vertical-align: middle;\n",
       "    }\n",
       "\n",
       "    .dataframe tbody tr th {\n",
       "        vertical-align: top;\n",
       "    }\n",
       "\n",
       "    .dataframe thead th {\n",
       "        text-align: right;\n",
       "    }\n",
       "</style>\n",
       "<table border=\"1\" class=\"dataframe\">\n",
       "  <thead>\n",
       "    <tr style=\"text-align: right;\">\n",
       "      <th></th>\n",
       "      <th>0</th>\n",
       "      <th>1</th>\n",
       "      <th>2</th>\n",
       "      <th>3</th>\n",
       "    </tr>\n",
       "  </thead>\n",
       "  <tbody>\n",
       "    <tr>\n",
       "      <th>0</th>\n",
       "      <td>26</td>\n",
       "      <td>62</td>\n",
       "      <td>9</td>\n",
       "      <td>50</td>\n",
       "    </tr>\n",
       "    <tr>\n",
       "      <th>1</th>\n",
       "      <td>36</td>\n",
       "      <td>25</td>\n",
       "      <td>8</td>\n",
       "      <td>49</td>\n",
       "    </tr>\n",
       "    <tr>\n",
       "      <th>2</th>\n",
       "      <td>0</td>\n",
       "      <td>0</td>\n",
       "      <td>0</td>\n",
       "      <td>0</td>\n",
       "    </tr>\n",
       "    <tr>\n",
       "      <th>3</th>\n",
       "      <td>83</td>\n",
       "      <td>16</td>\n",
       "      <td>95</td>\n",
       "      <td>96</td>\n",
       "    </tr>\n",
       "    <tr>\n",
       "      <th>4</th>\n",
       "      <td>0</td>\n",
       "      <td>0</td>\n",
       "      <td>0</td>\n",
       "      <td>0</td>\n",
       "    </tr>\n",
       "    <tr>\n",
       "      <th>5</th>\n",
       "      <td>0</td>\n",
       "      <td>0</td>\n",
       "      <td>0</td>\n",
       "      <td>0</td>\n",
       "    </tr>\n",
       "    <tr>\n",
       "      <th>6</th>\n",
       "      <td>50</td>\n",
       "      <td>11</td>\n",
       "      <td>40</td>\n",
       "      <td>50</td>\n",
       "    </tr>\n",
       "    <tr>\n",
       "      <th>7</th>\n",
       "      <td>89</td>\n",
       "      <td>63</td>\n",
       "      <td>95</td>\n",
       "      <td>99</td>\n",
       "    </tr>\n",
       "  </tbody>\n",
       "</table>\n",
       "</div>"
      ],
      "text/plain": [
       "    0   1   2   3\n",
       "0  26  62   9  50\n",
       "1  36  25   8  49\n",
       "2   0   0   0   0\n",
       "3  83  16  95  96\n",
       "4   0   0   0   0\n",
       "5   0   0   0   0\n",
       "6  50  11  40  50\n",
       "7  89  63  95  99"
      ]
     },
     "execution_count": 31,
     "metadata": {},
     "output_type": "execute_result"
    }
   ],
   "source": [
    "df = DataFrame(data=np.random.randint(0, 100, size=(8, 4)))\n",
    "df.iloc[2] = np.array([0, 0, 0, 0])\n",
    "df.iloc[4] = np.array([0, 0, 0, 0])\n",
    "df.iloc[5] = np.array([0, 0, 0, 0])\n",
    "df\n"
   ]
  },
  {
   "cell_type": "code",
   "execution_count": null,
   "id": "ebf6112f",
   "metadata": {},
   "outputs": [
    {
     "data": {
      "application/vnd.microsoft.datawrangler.viewer.v0+json": {
       "columns": [
        {
         "name": "index",
         "rawType": "int64",
         "type": "integer"
        },
        {
         "name": "0",
         "rawType": "int32",
         "type": "integer"
        },
        {
         "name": "1",
         "rawType": "int32",
         "type": "integer"
        },
        {
         "name": "2",
         "rawType": "int32",
         "type": "integer"
        },
        {
         "name": "3",
         "rawType": "int32",
         "type": "integer"
        }
       ],
       "ref": "8b2fa811-3e1d-4e40-b397-cf2ead96c2f5",
       "rows": [
        [
         "0",
         "26",
         "62",
         "9",
         "50"
        ],
        [
         "1",
         "36",
         "25",
         "8",
         "49"
        ],
        [
         "2",
         "0",
         "0",
         "0",
         "0"
        ],
        [
         "3",
         "83",
         "16",
         "95",
         "96"
        ],
        [
         "6",
         "50",
         "11",
         "40",
         "50"
        ],
        [
         "7",
         "89",
         "63",
         "95",
         "99"
        ]
       ],
       "shape": {
        "columns": 4,
        "rows": 6
       }
      },
      "text/html": [
       "<div>\n",
       "<style scoped>\n",
       "    .dataframe tbody tr th:only-of-type {\n",
       "        vertical-align: middle;\n",
       "    }\n",
       "\n",
       "    .dataframe tbody tr th {\n",
       "        vertical-align: top;\n",
       "    }\n",
       "\n",
       "    .dataframe thead th {\n",
       "        text-align: right;\n",
       "    }\n",
       "</style>\n",
       "<table border=\"1\" class=\"dataframe\">\n",
       "  <thead>\n",
       "    <tr style=\"text-align: right;\">\n",
       "      <th></th>\n",
       "      <th>0</th>\n",
       "      <th>1</th>\n",
       "      <th>2</th>\n",
       "      <th>3</th>\n",
       "    </tr>\n",
       "  </thead>\n",
       "  <tbody>\n",
       "    <tr>\n",
       "      <th>0</th>\n",
       "      <td>26</td>\n",
       "      <td>62</td>\n",
       "      <td>9</td>\n",
       "      <td>50</td>\n",
       "    </tr>\n",
       "    <tr>\n",
       "      <th>1</th>\n",
       "      <td>36</td>\n",
       "      <td>25</td>\n",
       "      <td>8</td>\n",
       "      <td>49</td>\n",
       "    </tr>\n",
       "    <tr>\n",
       "      <th>2</th>\n",
       "      <td>0</td>\n",
       "      <td>0</td>\n",
       "      <td>0</td>\n",
       "      <td>0</td>\n",
       "    </tr>\n",
       "    <tr>\n",
       "      <th>3</th>\n",
       "      <td>83</td>\n",
       "      <td>16</td>\n",
       "      <td>95</td>\n",
       "      <td>96</td>\n",
       "    </tr>\n",
       "    <tr>\n",
       "      <th>6</th>\n",
       "      <td>50</td>\n",
       "      <td>11</td>\n",
       "      <td>40</td>\n",
       "      <td>50</td>\n",
       "    </tr>\n",
       "    <tr>\n",
       "      <th>7</th>\n",
       "      <td>89</td>\n",
       "      <td>63</td>\n",
       "      <td>95</td>\n",
       "      <td>99</td>\n",
       "    </tr>\n",
       "  </tbody>\n",
       "</table>\n",
       "</div>"
      ],
      "text/plain": [
       "    0   1   2   3\n",
       "0  26  62   9  50\n",
       "1  36  25   8  49\n",
       "2   0   0   0   0\n",
       "3  83  16  95  96\n",
       "6  50  11  40  50\n",
       "7  89  63  95  99"
      ]
     },
     "execution_count": 32,
     "metadata": {},
     "output_type": "execute_result"
    }
   ],
   "source": [
    "df.drop_duplicates(keep='first')"
   ]
  },
  {
   "cell_type": "code",
   "execution_count": null,
   "id": "c2c0d1f0",
   "metadata": {},
   "outputs": [
    {
     "data": {
      "application/vnd.microsoft.datawrangler.viewer.v0+json": {
       "columns": [
        {
         "name": "index",
         "rawType": "int64",
         "type": "integer"
        },
        {
         "name": "A",
         "rawType": "float64",
         "type": "float"
        },
        {
         "name": "B",
         "rawType": "float64",
         "type": "float"
        },
        {
         "name": "C",
         "rawType": "float64",
         "type": "float"
        }
       ],
       "ref": "12f31830-7cb8-4665-a60f-0969e9facb40",
       "rows": [
        [
         "0",
         "0.6480509934673696",
         "0.5266499000336238",
         "0.30346608827415233"
        ],
        [
         "1",
         "0.11149335706159713",
         "0.25867513576475665",
         "0.2776435015585105"
        ],
        [
         "2",
         "0.37219625222545716",
         "0.38619468869598417",
         "0.5589337891143964"
        ],
        [
         "4",
         "0.3482754844434972",
         "0.5352416849395449",
         "0.2668038477975775"
        ],
        [
         "5",
         "0.0252674210878997",
         "0.3739258424287376",
         "0.33679550586595275"
        ],
        [
         "6",
         "0.5251696025936415",
         "0.30894624535514703",
         "0.18088700067490981"
        ],
        [
         "7",
         "0.8263087118942082",
         "0.29764343102642443",
         "0.13008504542966204"
        ],
        [
         "9",
         "0.9635551709199992",
         "0.022207727494292895",
         "0.31458915040580904"
        ],
        [
         "10",
         "0.47610892615359035",
         "0.60498232847437",
         "0.18563670214060235"
        ],
        [
         "13",
         "0.9729562189363786",
         "0.9369108059908178",
         "0.41293499362990904"
        ],
        [
         "14",
         "0.4041749899738982",
         "0.6252778754049776",
         "0.5653452956535628"
        ],
        [
         "15",
         "0.5642082953025906",
         "0.5359620056460708",
         "0.44849229537992263"
        ],
        [
         "17",
         "0.3068212839189778",
         "0.1515830997153853",
         "0.15629364048306427"
        ],
        [
         "18",
         "0.5444790328702306",
         "0.7490265593783251",
         "0.017941502471580217"
        ],
        [
         "21",
         "0.7094578146798063",
         "0.7419158292704422",
         "0.5347245909748515"
        ],
        [
         "22",
         "0.9817411218057875",
         "0.5148864867096883",
         "0.06849525376121224"
        ],
        [
         "23",
         "0.20577882626053956",
         "0.6416495044833821",
         "0.1871670916994601"
        ],
        [
         "26",
         "0.6912113127156088",
         "0.35383415041742594",
         "0.3439999546328013"
        ],
        [
         "27",
         "0.48410875218543115",
         "0.548738890381484",
         "0.06333244854549513"
        ],
        [
         "28",
         "0.9353875431203837",
         "0.32048902717368577",
         "0.03239461110856101"
        ],
        [
         "30",
         "0.33570058598187935",
         "0.22433641372502267",
         "0.4263584442549291"
        ],
        [
         "31",
         "0.5119615430833983",
         "0.2970416917354207",
         "0.32033163398379005"
        ],
        [
         "33",
         "0.21987633231472636",
         "0.07150631689264364",
         "0.07663232577224488"
        ],
        [
         "34",
         "0.36536678387085475",
         "0.5003006958255934",
         "0.5199922316756603"
        ],
        [
         "35",
         "0.1488553142874155",
         "0.3990528841544714",
         "0.02000971671677021"
        ],
        [
         "36",
         "0.5254636742682646",
         "0.7105302587224845",
         "0.16554828626872609"
        ],
        [
         "37",
         "0.7923792371938083",
         "0.4878883628510259",
         "0.23634002086245098"
        ],
        [
         "39",
         "0.3231664380097883",
         "0.3994770333996278",
         "0.41081335821063103"
        ],
        [
         "44",
         "0.4578653496109154",
         "0.5624213746591968",
         "0.3537056445815625"
        ],
        [
         "46",
         "0.8380140841851283",
         "0.2563582992089636",
         "0.5467307525757119"
        ],
        [
         "47",
         "0.4769454132544576",
         "0.2814486035330517",
         "0.4688645064116933"
        ],
        [
         "48",
         "0.10202537092628661",
         "0.26224618755117224",
         "0.1628843932805757"
        ],
        [
         "49",
         "0.007279994444508331",
         "0.12713044760453096",
         "0.3457586596563178"
        ],
        [
         "50",
         "0.2545632504342964",
         "0.9297654131507885",
         "0.15748161372151726"
        ],
        [
         "52",
         "0.4304406613444943",
         "0.3101813449885841",
         "0.1719205175535179"
        ],
        [
         "53",
         "0.26571388720129874",
         "0.7268154980766479",
         "0.5346517877429536"
        ],
        [
         "54",
         "0.2856223425648792",
         "0.8032295590490758",
         "0.44027928783888337"
        ],
        [
         "55",
         "0.746770266707745",
         "0.5106433218698113",
         "0.4249668734662403"
        ],
        [
         "56",
         "0.1987451530976987",
         "0.15905777668755805",
         "0.17062983322357028"
        ],
        [
         "57",
         "0.3448613489764406",
         "0.478762893261252",
         "0.019997917256895925"
        ],
        [
         "59",
         "0.3241942770496332",
         "0.2280727774921384",
         "0.5822171495583671"
        ],
        [
         "60",
         "0.9770020597915784",
         "0.662036050207119",
         "0.5725969774081546"
        ],
        [
         "62",
         "0.1620028489055454",
         "0.8775529383153601",
         "0.2987284541154752"
        ],
        [
         "65",
         "0.5601906629890017",
         "0.8491643198085174",
         "0.5687949674896753"
        ],
        [
         "67",
         "0.29798521037177206",
         "0.7729956019006354",
         "0.5329233513850014"
        ],
        [
         "68",
         "0.8877744561076187",
         "0.2313855592514883",
         "0.3906422632442871"
        ],
        [
         "69",
         "0.22462344166306702",
         "0.5635801874597579",
         "0.0261527001466213"
        ],
        [
         "71",
         "0.11924127598280387",
         "0.032895618831984774",
         "0.38190291859475267"
        ],
        [
         "76",
         "0.47501721013050857",
         "0.4166183688969355",
         "0.3259873730629915"
        ],
        [
         "77",
         "0.6798045583188249",
         "0.5685053298865992",
         "0.5766859718489338"
        ]
       ],
       "shape": {
        "columns": 3,
        "rows": 576
       }
      },
      "text/html": [
       "<div>\n",
       "<style scoped>\n",
       "    .dataframe tbody tr th:only-of-type {\n",
       "        vertical-align: middle;\n",
       "    }\n",
       "\n",
       "    .dataframe tbody tr th {\n",
       "        vertical-align: top;\n",
       "    }\n",
       "\n",
       "    .dataframe thead th {\n",
       "        text-align: right;\n",
       "    }\n",
       "</style>\n",
       "<table border=\"1\" class=\"dataframe\">\n",
       "  <thead>\n",
       "    <tr style=\"text-align: right;\">\n",
       "      <th></th>\n",
       "      <th>A</th>\n",
       "      <th>B</th>\n",
       "      <th>C</th>\n",
       "    </tr>\n",
       "  </thead>\n",
       "  <tbody>\n",
       "    <tr>\n",
       "      <th>0</th>\n",
       "      <td>0.648051</td>\n",
       "      <td>0.526650</td>\n",
       "      <td>0.303466</td>\n",
       "    </tr>\n",
       "    <tr>\n",
       "      <th>1</th>\n",
       "      <td>0.111493</td>\n",
       "      <td>0.258675</td>\n",
       "      <td>0.277644</td>\n",
       "    </tr>\n",
       "    <tr>\n",
       "      <th>2</th>\n",
       "      <td>0.372196</td>\n",
       "      <td>0.386195</td>\n",
       "      <td>0.558934</td>\n",
       "    </tr>\n",
       "    <tr>\n",
       "      <th>4</th>\n",
       "      <td>0.348275</td>\n",
       "      <td>0.535242</td>\n",
       "      <td>0.266804</td>\n",
       "    </tr>\n",
       "    <tr>\n",
       "      <th>5</th>\n",
       "      <td>0.025267</td>\n",
       "      <td>0.373926</td>\n",
       "      <td>0.336796</td>\n",
       "    </tr>\n",
       "    <tr>\n",
       "      <th>...</th>\n",
       "      <td>...</td>\n",
       "      <td>...</td>\n",
       "      <td>...</td>\n",
       "    </tr>\n",
       "    <tr>\n",
       "      <th>991</th>\n",
       "      <td>0.711376</td>\n",
       "      <td>0.899220</td>\n",
       "      <td>0.391017</td>\n",
       "    </tr>\n",
       "    <tr>\n",
       "      <th>992</th>\n",
       "      <td>0.050938</td>\n",
       "      <td>0.822067</td>\n",
       "      <td>0.477247</td>\n",
       "    </tr>\n",
       "    <tr>\n",
       "      <th>994</th>\n",
       "      <td>0.172264</td>\n",
       "      <td>0.746677</td>\n",
       "      <td>0.335286</td>\n",
       "    </tr>\n",
       "    <tr>\n",
       "      <th>997</th>\n",
       "      <td>0.565415</td>\n",
       "      <td>0.187625</td>\n",
       "      <td>0.175747</td>\n",
       "    </tr>\n",
       "    <tr>\n",
       "      <th>999</th>\n",
       "      <td>0.477730</td>\n",
       "      <td>0.876989</td>\n",
       "      <td>0.404988</td>\n",
       "    </tr>\n",
       "  </tbody>\n",
       "</table>\n",
       "<p>576 rows × 3 columns</p>\n",
       "</div>"
      ],
      "text/plain": [
       "            A         B         C\n",
       "0    0.648051  0.526650  0.303466\n",
       "1    0.111493  0.258675  0.277644\n",
       "2    0.372196  0.386195  0.558934\n",
       "4    0.348275  0.535242  0.266804\n",
       "5    0.025267  0.373926  0.336796\n",
       "..        ...       ...       ...\n",
       "991  0.711376  0.899220  0.391017\n",
       "992  0.050938  0.822067  0.477247\n",
       "994  0.172264  0.746677  0.335286\n",
       "997  0.565415  0.187625  0.175747\n",
       "999  0.477730  0.876989  0.404988\n",
       "\n",
       "[576 rows x 3 columns]"
      ]
     },
     "execution_count": 38,
     "metadata": {},
     "output_type": "execute_result"
    }
   ],
   "source": [
    "df = DataFrame(data=np.random.random(size=(1000, 3)), columns=['A', 'B', 'C'])\n",
    "# 判定异常值的条件\n",
    "twice_std = df['C'].std() * 2\n",
    "# ~(df['C'] > twice_std)\n",
    "df.loc[~(df['C'] > twice_std)]"
   ]
  }
 ],
 "metadata": {
  "kernelspec": {
   "display_name": "ml2025",
   "language": "python",
   "name": "python3"
  },
  "language_info": {
   "codemirror_mode": {
    "name": "ipython",
    "version": 3
   },
   "file_extension": ".py",
   "mimetype": "text/x-python",
   "name": "python",
   "nbconvert_exporter": "python",
   "pygments_lexer": "ipython3",
   "version": "3.10.14"
  }
 },
 "nbformat": 4,
 "nbformat_minor": 5
}
