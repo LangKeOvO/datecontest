{
 "cells": [
  {
   "cell_type": "code",
   "execution_count": 1,
   "id": "de522405",
   "metadata": {},
   "outputs": [],
   "source": [
    "import numpy as np\n",
    "import pandas as pd"
   ]
  },
  {
   "cell_type": "code",
   "execution_count": 2,
   "id": "3cc2656c",
   "metadata": {},
   "outputs": [
    {
     "data": {
      "application/vnd.microsoft.datawrangler.viewer.v0+json": {
       "columns": [
        {
         "name": "index",
         "rawType": "int64",
         "type": "integer"
        },
        {
         "name": "X",
         "rawType": "float64",
         "type": "float"
        }
       ],
       "ref": "716a9ca3-c2da-484f-b3eb-5dc2ffba2118",
       "rows": [
        [
         "1",
         "102.64052345967664"
        ],
        [
         "2",
         "89.00157208367223"
        ],
        [
         "3",
         "94.78737984105739"
        ],
        [
         "4",
         "107.40893199201457"
        ],
        [
         "5",
         "103.67557990149967"
        ],
        [
         "6",
         "75.22722120123589"
        ],
        [
         "7",
         "94.50088417525589"
        ],
        [
         "8",
         "83.48642791702302"
        ],
        [
         "9",
         "83.96781148206442"
        ],
        [
         "10",
         "89.10598501938372"
        ],
        [
         "11",
         "86.44043571160879"
        ],
        [
         "12",
         "99.54273506962976"
        ],
        [
         "13",
         "92.61037725146994"
        ],
        [
         "14",
         "86.21675016492829"
        ],
        [
         "15",
         "89.43863232745426"
        ],
        [
         "16",
         "88.33674327374267"
        ],
        [
         "17",
         "99.94079073157606"
        ],
        [
         "18",
         "82.94841736234198"
        ],
        [
         "19",
         "88.13067701650901"
        ],
        [
         "20",
         "76.45904260698275"
        ]
       ],
       "shape": {
        "columns": 1,
        "rows": 20
       }
      },
      "text/html": [
       "<div>\n",
       "<style scoped>\n",
       "    .dataframe tbody tr th:only-of-type {\n",
       "        vertical-align: middle;\n",
       "    }\n",
       "\n",
       "    .dataframe tbody tr th {\n",
       "        vertical-align: top;\n",
       "    }\n",
       "\n",
       "    .dataframe thead th {\n",
       "        text-align: right;\n",
       "    }\n",
       "</style>\n",
       "<table border=\"1\" class=\"dataframe\">\n",
       "  <thead>\n",
       "    <tr style=\"text-align: right;\">\n",
       "      <th></th>\n",
       "      <th>X</th>\n",
       "    </tr>\n",
       "  </thead>\n",
       "  <tbody>\n",
       "    <tr>\n",
       "      <th>1</th>\n",
       "      <td>102.640523</td>\n",
       "    </tr>\n",
       "    <tr>\n",
       "      <th>2</th>\n",
       "      <td>89.001572</td>\n",
       "    </tr>\n",
       "    <tr>\n",
       "      <th>3</th>\n",
       "      <td>94.787380</td>\n",
       "    </tr>\n",
       "    <tr>\n",
       "      <th>4</th>\n",
       "      <td>107.408932</td>\n",
       "    </tr>\n",
       "    <tr>\n",
       "      <th>5</th>\n",
       "      <td>103.675580</td>\n",
       "    </tr>\n",
       "    <tr>\n",
       "      <th>6</th>\n",
       "      <td>75.227221</td>\n",
       "    </tr>\n",
       "    <tr>\n",
       "      <th>7</th>\n",
       "      <td>94.500884</td>\n",
       "    </tr>\n",
       "    <tr>\n",
       "      <th>8</th>\n",
       "      <td>83.486428</td>\n",
       "    </tr>\n",
       "    <tr>\n",
       "      <th>9</th>\n",
       "      <td>83.967811</td>\n",
       "    </tr>\n",
       "    <tr>\n",
       "      <th>10</th>\n",
       "      <td>89.105985</td>\n",
       "    </tr>\n",
       "    <tr>\n",
       "      <th>11</th>\n",
       "      <td>86.440436</td>\n",
       "    </tr>\n",
       "    <tr>\n",
       "      <th>12</th>\n",
       "      <td>99.542735</td>\n",
       "    </tr>\n",
       "    <tr>\n",
       "      <th>13</th>\n",
       "      <td>92.610377</td>\n",
       "    </tr>\n",
       "    <tr>\n",
       "      <th>14</th>\n",
       "      <td>86.216750</td>\n",
       "    </tr>\n",
       "    <tr>\n",
       "      <th>15</th>\n",
       "      <td>89.438632</td>\n",
       "    </tr>\n",
       "    <tr>\n",
       "      <th>16</th>\n",
       "      <td>88.336743</td>\n",
       "    </tr>\n",
       "    <tr>\n",
       "      <th>17</th>\n",
       "      <td>99.940791</td>\n",
       "    </tr>\n",
       "    <tr>\n",
       "      <th>18</th>\n",
       "      <td>82.948417</td>\n",
       "    </tr>\n",
       "    <tr>\n",
       "      <th>19</th>\n",
       "      <td>88.130677</td>\n",
       "    </tr>\n",
       "    <tr>\n",
       "      <th>20</th>\n",
       "      <td>76.459043</td>\n",
       "    </tr>\n",
       "  </tbody>\n",
       "</table>\n",
       "</div>"
      ],
      "text/plain": [
       "             X\n",
       "1   102.640523\n",
       "2    89.001572\n",
       "3    94.787380\n",
       "4   107.408932\n",
       "5   103.675580\n",
       "6    75.227221\n",
       "7    94.500884\n",
       "8    83.486428\n",
       "9    83.967811\n",
       "10   89.105985\n",
       "11   86.440436\n",
       "12   99.542735\n",
       "13   92.610377\n",
       "14   86.216750\n",
       "15   89.438632\n",
       "16   88.336743\n",
       "17   99.940791\n",
       "18   82.948417\n",
       "19   88.130677\n",
       "20   76.459043"
      ]
     },
     "execution_count": 2,
     "metadata": {},
     "output_type": "execute_result"
    }
   ],
   "source": [
    "np.random.seed(0)\n",
    "a1 = np.random.normal(85, 10, 20)\n",
    "s1 = pd.DataFrame(a1, columns=['X'], index=range(1, 21))\n",
    "s1"
   ]
  },
  {
   "cell_type": "markdown",
   "id": "ae6264ab",
   "metadata": {},
   "source": [
    "- 观察法"
   ]
  },
  {
   "cell_type": "code",
   "execution_count": 3,
   "id": "8b077b0f",
   "metadata": {},
   "outputs": [
    {
     "data": {
      "text/plain": [
       "array([        nan, 89.00157208, 94.78737984,         nan,         nan,\n",
       "       75.2272212 , 94.50088418, 83.48642792, 83.96781148, 89.10598502,\n",
       "       86.44043571, 99.54273507, 92.61037725, 86.21675016, 89.43863233,\n",
       "       88.33674327, 99.94079073, 82.94841736, 88.13067702, 76.45904261])"
      ]
     },
     "execution_count": 3,
     "metadata": {},
     "output_type": "execute_result"
    }
   ],
   "source": [
    "# np.where 三目运算符\n",
    "np.where(a1 > 100, np.nan, a1)"
   ]
  },
  {
   "cell_type": "code",
   "execution_count": 4,
   "id": "f4f333fd",
   "metadata": {},
   "outputs": [
    {
     "data": {
      "application/vnd.microsoft.datawrangler.viewer.v0+json": {
       "columns": [
        {
         "name": "index",
         "rawType": "int64",
         "type": "integer"
        },
        {
         "name": "X",
         "rawType": "float64",
         "type": "float"
        }
       ],
       "ref": "37a38bcb-0815-4dba-80b3-710bf347046a",
       "rows": [
        [
         "1",
         null
        ],
        [
         "2",
         "89.00157208367223"
        ],
        [
         "3",
         "94.78737984105739"
        ],
        [
         "4",
         null
        ],
        [
         "5",
         null
        ],
        [
         "6",
         "75.22722120123589"
        ],
        [
         "7",
         "94.50088417525589"
        ],
        [
         "8",
         "83.48642791702302"
        ],
        [
         "9",
         "83.96781148206442"
        ],
        [
         "10",
         "89.10598501938372"
        ],
        [
         "11",
         "86.44043571160879"
        ],
        [
         "12",
         "99.54273506962976"
        ],
        [
         "13",
         "92.61037725146994"
        ],
        [
         "14",
         "86.21675016492829"
        ],
        [
         "15",
         "89.43863232745426"
        ],
        [
         "16",
         "88.33674327374267"
        ],
        [
         "17",
         "99.94079073157606"
        ],
        [
         "18",
         "82.94841736234198"
        ],
        [
         "19",
         "88.13067701650901"
        ],
        [
         "20",
         "76.45904260698275"
        ]
       ],
       "shape": {
        "columns": 1,
        "rows": 20
       }
      },
      "text/html": [
       "<div>\n",
       "<style scoped>\n",
       "    .dataframe tbody tr th:only-of-type {\n",
       "        vertical-align: middle;\n",
       "    }\n",
       "\n",
       "    .dataframe tbody tr th {\n",
       "        vertical-align: top;\n",
       "    }\n",
       "\n",
       "    .dataframe thead th {\n",
       "        text-align: right;\n",
       "    }\n",
       "</style>\n",
       "<table border=\"1\" class=\"dataframe\">\n",
       "  <thead>\n",
       "    <tr style=\"text-align: right;\">\n",
       "      <th></th>\n",
       "      <th>X</th>\n",
       "    </tr>\n",
       "  </thead>\n",
       "  <tbody>\n",
       "    <tr>\n",
       "      <th>1</th>\n",
       "      <td>NaN</td>\n",
       "    </tr>\n",
       "    <tr>\n",
       "      <th>2</th>\n",
       "      <td>89.001572</td>\n",
       "    </tr>\n",
       "    <tr>\n",
       "      <th>3</th>\n",
       "      <td>94.787380</td>\n",
       "    </tr>\n",
       "    <tr>\n",
       "      <th>4</th>\n",
       "      <td>NaN</td>\n",
       "    </tr>\n",
       "    <tr>\n",
       "      <th>5</th>\n",
       "      <td>NaN</td>\n",
       "    </tr>\n",
       "    <tr>\n",
       "      <th>6</th>\n",
       "      <td>75.227221</td>\n",
       "    </tr>\n",
       "    <tr>\n",
       "      <th>7</th>\n",
       "      <td>94.500884</td>\n",
       "    </tr>\n",
       "    <tr>\n",
       "      <th>8</th>\n",
       "      <td>83.486428</td>\n",
       "    </tr>\n",
       "    <tr>\n",
       "      <th>9</th>\n",
       "      <td>83.967811</td>\n",
       "    </tr>\n",
       "    <tr>\n",
       "      <th>10</th>\n",
       "      <td>89.105985</td>\n",
       "    </tr>\n",
       "    <tr>\n",
       "      <th>11</th>\n",
       "      <td>86.440436</td>\n",
       "    </tr>\n",
       "    <tr>\n",
       "      <th>12</th>\n",
       "      <td>99.542735</td>\n",
       "    </tr>\n",
       "    <tr>\n",
       "      <th>13</th>\n",
       "      <td>92.610377</td>\n",
       "    </tr>\n",
       "    <tr>\n",
       "      <th>14</th>\n",
       "      <td>86.216750</td>\n",
       "    </tr>\n",
       "    <tr>\n",
       "      <th>15</th>\n",
       "      <td>89.438632</td>\n",
       "    </tr>\n",
       "    <tr>\n",
       "      <th>16</th>\n",
       "      <td>88.336743</td>\n",
       "    </tr>\n",
       "    <tr>\n",
       "      <th>17</th>\n",
       "      <td>99.940791</td>\n",
       "    </tr>\n",
       "    <tr>\n",
       "      <th>18</th>\n",
       "      <td>82.948417</td>\n",
       "    </tr>\n",
       "    <tr>\n",
       "      <th>19</th>\n",
       "      <td>88.130677</td>\n",
       "    </tr>\n",
       "    <tr>\n",
       "      <th>20</th>\n",
       "      <td>76.459043</td>\n",
       "    </tr>\n",
       "  </tbody>\n",
       "</table>\n",
       "</div>"
      ],
      "text/plain": [
       "            X\n",
       "1         NaN\n",
       "2   89.001572\n",
       "3   94.787380\n",
       "4         NaN\n",
       "5         NaN\n",
       "6   75.227221\n",
       "7   94.500884\n",
       "8   83.486428\n",
       "9   83.967811\n",
       "10  89.105985\n",
       "11  86.440436\n",
       "12  99.542735\n",
       "13  92.610377\n",
       "14  86.216750\n",
       "15  89.438632\n",
       "16  88.336743\n",
       "17  99.940791\n",
       "18  82.948417\n",
       "19  88.130677\n",
       "20  76.459043"
      ]
     },
     "execution_count": 4,
     "metadata": {},
     "output_type": "execute_result"
    }
   ],
   "source": [
    "s1.where(s1 <= 100)"
   ]
  },
  {
   "cell_type": "code",
   "execution_count": 6,
   "id": "b070cb2a",
   "metadata": {},
   "outputs": [
    {
     "data": {
      "application/vnd.microsoft.datawrangler.viewer.v0+json": {
       "columns": [
        {
         "name": "index",
         "rawType": "int64",
         "type": "integer"
        },
        {
         "name": "X",
         "rawType": "float64",
         "type": "float"
        }
       ],
       "ref": "42dfdc40-1cff-4908-8a8a-39f2338a25fe",
       "rows": [
        [
         "2",
         "89.00157208367223"
        ],
        [
         "3",
         "94.78737984105739"
        ],
        [
         "6",
         "75.22722120123589"
        ],
        [
         "7",
         "94.50088417525589"
        ],
        [
         "8",
         "83.48642791702302"
        ],
        [
         "9",
         "83.96781148206442"
        ],
        [
         "10",
         "89.10598501938372"
        ],
        [
         "11",
         "86.44043571160879"
        ],
        [
         "12",
         "99.54273506962976"
        ],
        [
         "13",
         "92.61037725146994"
        ],
        [
         "14",
         "86.21675016492829"
        ],
        [
         "15",
         "89.43863232745426"
        ],
        [
         "16",
         "88.33674327374267"
        ],
        [
         "17",
         "99.94079073157606"
        ],
        [
         "18",
         "82.94841736234198"
        ],
        [
         "19",
         "88.13067701650901"
        ],
        [
         "20",
         "76.45904260698275"
        ]
       ],
       "shape": {
        "columns": 1,
        "rows": 17
       }
      },
      "text/html": [
       "<div>\n",
       "<style scoped>\n",
       "    .dataframe tbody tr th:only-of-type {\n",
       "        vertical-align: middle;\n",
       "    }\n",
       "\n",
       "    .dataframe tbody tr th {\n",
       "        vertical-align: top;\n",
       "    }\n",
       "\n",
       "    .dataframe thead th {\n",
       "        text-align: right;\n",
       "    }\n",
       "</style>\n",
       "<table border=\"1\" class=\"dataframe\">\n",
       "  <thead>\n",
       "    <tr style=\"text-align: right;\">\n",
       "      <th></th>\n",
       "      <th>X</th>\n",
       "    </tr>\n",
       "  </thead>\n",
       "  <tbody>\n",
       "    <tr>\n",
       "      <th>2</th>\n",
       "      <td>89.001572</td>\n",
       "    </tr>\n",
       "    <tr>\n",
       "      <th>3</th>\n",
       "      <td>94.787380</td>\n",
       "    </tr>\n",
       "    <tr>\n",
       "      <th>6</th>\n",
       "      <td>75.227221</td>\n",
       "    </tr>\n",
       "    <tr>\n",
       "      <th>7</th>\n",
       "      <td>94.500884</td>\n",
       "    </tr>\n",
       "    <tr>\n",
       "      <th>8</th>\n",
       "      <td>83.486428</td>\n",
       "    </tr>\n",
       "    <tr>\n",
       "      <th>9</th>\n",
       "      <td>83.967811</td>\n",
       "    </tr>\n",
       "    <tr>\n",
       "      <th>10</th>\n",
       "      <td>89.105985</td>\n",
       "    </tr>\n",
       "    <tr>\n",
       "      <th>11</th>\n",
       "      <td>86.440436</td>\n",
       "    </tr>\n",
       "    <tr>\n",
       "      <th>12</th>\n",
       "      <td>99.542735</td>\n",
       "    </tr>\n",
       "    <tr>\n",
       "      <th>13</th>\n",
       "      <td>92.610377</td>\n",
       "    </tr>\n",
       "    <tr>\n",
       "      <th>14</th>\n",
       "      <td>86.216750</td>\n",
       "    </tr>\n",
       "    <tr>\n",
       "      <th>15</th>\n",
       "      <td>89.438632</td>\n",
       "    </tr>\n",
       "    <tr>\n",
       "      <th>16</th>\n",
       "      <td>88.336743</td>\n",
       "    </tr>\n",
       "    <tr>\n",
       "      <th>17</th>\n",
       "      <td>99.940791</td>\n",
       "    </tr>\n",
       "    <tr>\n",
       "      <th>18</th>\n",
       "      <td>82.948417</td>\n",
       "    </tr>\n",
       "    <tr>\n",
       "      <th>19</th>\n",
       "      <td>88.130677</td>\n",
       "    </tr>\n",
       "    <tr>\n",
       "      <th>20</th>\n",
       "      <td>76.459043</td>\n",
       "    </tr>\n",
       "  </tbody>\n",
       "</table>\n",
       "</div>"
      ],
      "text/plain": [
       "            X\n",
       "2   89.001572\n",
       "3   94.787380\n",
       "6   75.227221\n",
       "7   94.500884\n",
       "8   83.486428\n",
       "9   83.967811\n",
       "10  89.105985\n",
       "11  86.440436\n",
       "12  99.542735\n",
       "13  92.610377\n",
       "14  86.216750\n",
       "15  89.438632\n",
       "16  88.336743\n",
       "17  99.940791\n",
       "18  82.948417\n",
       "19  88.130677\n",
       "20  76.459043"
      ]
     },
     "execution_count": 6,
     "metadata": {},
     "output_type": "execute_result"
    }
   ],
   "source": [
    "s1.query('X <= 100')"
   ]
  },
  {
   "cell_type": "markdown",
   "id": "ef68e1cf",
   "metadata": {},
   "source": [
    "- 散点图"
   ]
  },
  {
   "cell_type": "code",
   "execution_count": 7,
   "id": "e6aecb0c",
   "metadata": {},
   "outputs": [],
   "source": [
    "import matplotlib.pyplot as plt"
   ]
  },
  {
   "cell_type": "code",
   "execution_count": 8,
   "id": "90beef7a",
   "metadata": {},
   "outputs": [
    {
     "data": {
      "text/plain": [
       "[<matplotlib.lines.Line2D at 0x23cb0381c00>]"
      ]
     },
     "execution_count": 8,
     "metadata": {},
     "output_type": "execute_result"
    },
    {
     "data": {
      "image/png": "[encoded data removed]",
      "text/plain": [
       "<Figure size 640x480 with 1 Axes>"
      ]
     },
     "metadata": {},
     "output_type": "display_data"
    }
   ],
   "source": [
    "plt.plot(s1.query('X <= 100'), 'bo')\n",
    "plt.plot(s1.query('X > 100'), 'ro')"
   ]
  },
  {
   "cell_type": "markdown",
   "id": "3a8853fb",
   "metadata": {},
   "source": [
    "- 3signa"
   ]
  },
  {
   "cell_type": "code",
   "execution_count": 11,
   "id": "5fd2abde",
   "metadata": {},
   "outputs": [
    {
     "data": {
      "application/vnd.microsoft.datawrangler.viewer.v0+json": {
       "columns": [
        {
         "name": "index",
         "rawType": "int64",
         "type": "integer"
        },
        {
         "name": "X",
         "rawType": "float64",
         "type": "float"
        }
       ],
       "ref": "969c971c-c769-4404-a363-79147ff2e732",
       "rows": [
        [
         "1",
         "102.64052345967664"
        ],
        [
         "2",
         "89.00157208367223"
        ],
        [
         "3",
         "94.78737984105739"
        ],
        [
         "4",
         "107.40893199201457"
        ],
        [
         "5",
         "103.67557990149967"
        ],
        [
         "6",
         "75.22722120123589"
        ],
        [
         "7",
         "94.50088417525589"
        ],
        [
         "8",
         "83.48642791702302"
        ],
        [
         "9",
         "83.96781148206442"
        ],
        [
         "10",
         "89.10598501938372"
        ],
        [
         "11",
         "86.44043571160879"
        ],
        [
         "12",
         "99.54273506962976"
        ],
        [
         "13",
         "92.61037725146994"
        ],
        [
         "14",
         "86.21675016492829"
        ],
        [
         "15",
         "89.43863232745426"
        ],
        [
         "16",
         "88.33674327374267"
        ],
        [
         "17",
         "99.94079073157606"
        ],
        [
         "18",
         "82.94841736234198"
        ],
        [
         "19",
         "88.13067701650901"
        ],
        [
         "20",
         "76.45904260698275"
        ]
       ],
       "shape": {
        "columns": 1,
        "rows": 20
       }
      },
      "text/html": [
       "<div>\n",
       "<style scoped>\n",
       "    .dataframe tbody tr th:only-of-type {\n",
       "        vertical-align: middle;\n",
       "    }\n",
       "\n",
       "    .dataframe tbody tr th {\n",
       "        vertical-align: top;\n",
       "    }\n",
       "\n",
       "    .dataframe thead th {\n",
       "        text-align: right;\n",
       "    }\n",
       "</style>\n",
       "<table border=\"1\" class=\"dataframe\">\n",
       "  <thead>\n",
       "    <tr style=\"text-align: right;\">\n",
       "      <th></th>\n",
       "      <th>X</th>\n",
       "    </tr>\n",
       "  </thead>\n",
       "  <tbody>\n",
       "    <tr>\n",
       "      <th>1</th>\n",
       "      <td>102.640523</td>\n",
       "    </tr>\n",
       "    <tr>\n",
       "      <th>2</th>\n",
       "      <td>89.001572</td>\n",
       "    </tr>\n",
       "    <tr>\n",
       "      <th>3</th>\n",
       "      <td>94.787380</td>\n",
       "    </tr>\n",
       "    <tr>\n",
       "      <th>4</th>\n",
       "      <td>107.408932</td>\n",
       "    </tr>\n",
       "    <tr>\n",
       "      <th>5</th>\n",
       "      <td>103.675580</td>\n",
       "    </tr>\n",
       "    <tr>\n",
       "      <th>6</th>\n",
       "      <td>75.227221</td>\n",
       "    </tr>\n",
       "    <tr>\n",
       "      <th>7</th>\n",
       "      <td>94.500884</td>\n",
       "    </tr>\n",
       "    <tr>\n",
       "      <th>8</th>\n",
       "      <td>83.486428</td>\n",
       "    </tr>\n",
       "    <tr>\n",
       "      <th>9</th>\n",
       "      <td>83.967811</td>\n",
       "    </tr>\n",
       "    <tr>\n",
       "      <th>10</th>\n",
       "      <td>89.105985</td>\n",
       "    </tr>\n",
       "    <tr>\n",
       "      <th>11</th>\n",
       "      <td>86.440436</td>\n",
       "    </tr>\n",
       "    <tr>\n",
       "      <th>12</th>\n",
       "      <td>99.542735</td>\n",
       "    </tr>\n",
       "    <tr>\n",
       "      <th>13</th>\n",
       "      <td>92.610377</td>\n",
       "    </tr>\n",
       "    <tr>\n",
       "      <th>14</th>\n",
       "      <td>86.216750</td>\n",
       "    </tr>\n",
       "    <tr>\n",
       "      <th>15</th>\n",
       "      <td>89.438632</td>\n",
       "    </tr>\n",
       "    <tr>\n",
       "      <th>16</th>\n",
       "      <td>88.336743</td>\n",
       "    </tr>\n",
       "    <tr>\n",
       "      <th>17</th>\n",
       "      <td>99.940791</td>\n",
       "    </tr>\n",
       "    <tr>\n",
       "      <th>18</th>\n",
       "      <td>82.948417</td>\n",
       "    </tr>\n",
       "    <tr>\n",
       "      <th>19</th>\n",
       "      <td>88.130677</td>\n",
       "    </tr>\n",
       "    <tr>\n",
       "      <th>20</th>\n",
       "      <td>76.459043</td>\n",
       "    </tr>\n",
       "  </tbody>\n",
       "</table>\n",
       "</div>"
      ],
      "text/plain": [
       "             X\n",
       "1   102.640523\n",
       "2    89.001572\n",
       "3    94.787380\n",
       "4   107.408932\n",
       "5   103.675580\n",
       "6    75.227221\n",
       "7    94.500884\n",
       "8    83.486428\n",
       "9    83.967811\n",
       "10   89.105985\n",
       "11   86.440436\n",
       "12   99.542735\n",
       "13   92.610377\n",
       "14   86.216750\n",
       "15   89.438632\n",
       "16   88.336743\n",
       "17   99.940791\n",
       "18   82.948417\n",
       "19   88.130677\n",
       "20   76.459043"
      ]
     },
     "execution_count": 11,
     "metadata": {},
     "output_type": "execute_result"
    }
   ],
   "source": [
    "# 3digma\n",
    "# mean计算均值，默认计算每一列的均值， std是计算标准差，同样默认是列\n",
    "s1.query('X < X.mean() + 3 * X.std() and X > X.mean() - 3 * X.std()')"
   ]
  },
  {
   "cell_type": "markdown",
   "id": "cf96e2cf",
   "metadata": {},
   "source": [
    "- 箱线图"
   ]
  },
  {
   "cell_type": "code",
   "execution_count": 12,
   "id": "e01cc1d8",
   "metadata": {},
   "outputs": [],
   "source": [
    "import seaborn as sns"
   ]
  },
  {
   "cell_type": "code",
   "execution_count": 13,
   "id": "ef09abe8",
   "metadata": {},
   "outputs": [
    {
     "data": {
      "text/plain": [
       "<Axes: >"
      ]
     },
     "execution_count": 13,
     "metadata": {},
     "output_type": "execute_result"
    },
    {
     "data": {
      "image/png": "[encoded data removed]",
      "text/plain": [
       "<Figure size 640x480 with 1 Axes>"
      ]
     },
     "metadata": {},
     "output_type": "display_data"
    }
   ],
   "source": [
    "sns.boxplot(s1)"
   ]
  },
  {
   "cell_type": "code",
   "execution_count": 14,
   "id": "cf376f79",
   "metadata": {},
   "outputs": [
    {
     "data": {
      "text/plain": [
       "<Axes: >"
      ]
     },
     "execution_count": 14,
     "metadata": {},
     "output_type": "execute_result"
    },
    {
     "data": {
      "image/png": "[encoded data removed]",
      "text/plain": [
       "<Figure size 640x480 with 1 Axes>"
      ]
     },
     "metadata": {},
     "output_type": "display_data"
    }
   ],
   "source": [
    "s1.iloc[0] = 200\n",
    "sns.boxplot(s1)"
   ]
  },
  {
   "cell_type": "markdown",
   "id": "35cf7376",
   "metadata": {},
   "source": [
    "- 聚类分析"
   ]
  },
  {
   "cell_type": "code",
   "execution_count": 15,
   "id": "b920b35c",
   "metadata": {},
   "outputs": [],
   "source": [
    "from sklearn.cluster import DBSCAN"
   ]
  },
  {
   "cell_type": "code",
   "execution_count": 16,
   "id": "d4fe9491",
   "metadata": {},
   "outputs": [
    {
     "data": {
      "text/plain": [
       "<Axes: xlabel='None', ylabel='X'>"
      ]
     },
     "execution_count": 16,
     "metadata": {},
     "output_type": "execute_result"
    },
    {
     "data": {
      "image/png": "[encoded data removed]",
      "text/plain": [
       "<Figure size 640x480 with 1 Axes>"
      ]
     },
     "metadata": {},
     "output_type": "display_data"
    }
   ],
   "source": [
    "s1['y'] = DBSCAN(min_samples=1, eps=10).fit_predict(s1)\n",
    "sns.scatterplot(s1, x=s1.index, y='X', hue='y')"
   ]
  },
  {
   "cell_type": "code",
   "execution_count": null,
   "id": "a997a1c6",
   "metadata": {},
   "outputs": [],
   "source": []
  }
 ],
 "metadata": {
  "kernelspec": {
   "display_name": "Python (ml2025-base)",
   "language": "python",
   "name": "ml2025-base"
  },
  "language_info": {
   "codemirror_mode": {
    "name": "ipython",
    "version": 3
   },
   "file_extension": ".py",
   "mimetype": "text/x-python",
   "name": "python",
   "nbconvert_exporter": "python",
   "pygments_lexer": "ipython3",
   "version": "3.10.16"
  }
 },
 "nbformat": 4,
 "nbformat_minor": 5
}
